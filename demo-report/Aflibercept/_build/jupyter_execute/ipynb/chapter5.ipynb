{
 "cells": [
  {
   "cell_type": "markdown",
   "id": "429a0527",
   "metadata": {},
   "source": [
    "# 5. Homologous human frameworks\n",
    "\n",
    "The humanization of an antibody that was raised in another species is typically one of the major\n",
    "steps in its development for clinical use in humans. Given the nature of VDJ recombination6\n",
    "novel (non-germline) sequences can occur in the variable regions of the light and heavy chains\n",
    "which makes the humanization of the variable regions more challenging. In many therapeutic\n",
    "antibodies, any non-human antibody frameworks in the constant regions can be entirely and\n",
    "directly substituted with their human homologs. In the variable regions however, especially in\n",
    "the CDRs and in the sensitive regions around them that determine their conformations, only a\n",
    "partial humanization may be possible, given the requirement to preserve the antibody’s affinity\n",
    "for its antigen. For the humanization of antibody variable regions, alternative methods such as7\n",
    "CDR grafting and resurfacing are often used, and these methods are also based upon the use\n",
    "of sequences from close human homologs.\n",
    "\n",
    "When the goal is reducing a clinical antibody’s immunogenicity in patients, humanization and\n",
    "the removal of potential T-cell epitopes (deimmunization) are complementary approaches.\n",
    "When the humanization of a particular segment of the variable region is impractical, it may be\n",
    "possible to reduce the potential immunogenicity of that segment with fewer and/or more\n",
    "conservative substitutions that reduce the number and/or strength of the potential T-cell\n",
    "epitopes in that segment. For this reason, the data presented in this section and in the previous\n",
    "immunogenicity analysis, can be used together in the antibody development process.\n",
    "\n",
    "In this section, we present alignments of the light and heavy chains of the antibody with the ten\n",
    "closest human homologs from a database of the human antibody germline. In each case, the\n",
    "most homologous frameworks from either the heavy chain, or the light chain kappa and lambda\n",
    "frameworks, are shown in conjunction with the best matching J regions. These alignments can\n",
    "guide the selection of the most promising human frameworks that could be used for the\n",
    "humanization of the variable regions, as well as highlighting non-human sequences that are\n",
    "potential candidates for deimmunization in the event that their humanization is not practical.\n",
    "\n",
    "## human framework alignments"
   ]
  },
  {
   "cell_type": "code",
   "execution_count": null,
   "id": "42087b7c",
   "metadata": {},
   "outputs": [],
   "source": []
  }
 ],
 "metadata": {
  "kernelspec": {
   "display_name": "Python 3 (ipykernel)",
   "language": "python",
   "name": "python3"
  },
  "language_info": {
   "codemirror_mode": {
    "name": "ipython",
    "version": 3
   },
   "file_extension": ".py",
   "mimetype": "text/x-python",
   "name": "python",
   "nbconvert_exporter": "python",
   "pygments_lexer": "ipython3",
   "version": "3.8.10"
  }
 },
 "nbformat": 4,
 "nbformat_minor": 5
}