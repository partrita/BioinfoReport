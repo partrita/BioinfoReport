{
 "cells": [
  {
   "cell_type": "markdown",
   "id": "429a0527",
   "metadata": {},
   "source": [
    "\n",
    "# Protein parameters analysis\n",
    "\n",
    "The program performs most of the same functions as the Expasy ProtParam tool.\n",
    "Protein parameters for analysing protein sequences.\n",
    "\n",
    "The program calculates:\n",
    "\n",
    "1. Molecular weight\n",
    "2. Chemicalcomposition\n",
    "3. Amino acid composition\n",
    "4. pI\n",
    "5. Extinction coefficient\n",
    "6. Aromaticity\n",
    "7. GRAVY and Instability_index\n",
    "\n",
    "\n",
    "## Input sequences\n",
    "\n",
    "\n",
    "```\n",
    "SDTGRPFVEM YSEIPEIIHM TEGRELVIPC RVTSPNITVT LKKFPLDTLI PDGKRIIWDS\n",
    "RKGFIISNAT YKEIGLLTCE ATVNGHLYKT NYLTHRQTNT IIDVVLSPSH GIELSVGEKL\n",
    "VLNCTARTEL NVGIDFNWEY PSSKHQHKKL VNRDLKTQSG SEMKKFLSTL TIDGVTRSDQ\n",
    "GLYTCAASSG LMTKKNSTFV RVHEKDKTHT CPPCPAPELL GGPSVFLFPP KPKDTLMISR\n",
    "TPEVTCVVVD VSHEDPEVKF NWYVDGVEVH NAKTKPREEQ YNSTYRVVSV LTVLHQDWLN\n",
    "GKEYKCKVSN KALPAPIEKT ISKAKGQPRE PQVYTLPPSR DELTKNQVSL TCLVKGFYPS\n",
    "DIAVEWESNG QPENNYKTTP PVLDSDGSFF LYSKLTVDKS RWQQGNVFSC SVMHEALHNH\n",
    "YTQKSLSLSP G\n",
    "```\n",
    "\n",
    "(Known Disulfide bridge: 30-79, 124-185, 246-306, 352-410, 211-211', 214-214')\n",
    "\n",
    "\n",
    "## Molecular weight\n",
    "\n",
    "Amino acids are the building blocks that form polypeptides and ultimately proteins. Calculates the molecular weight of a protein.\n"
   ]
  },
  {
   "cell_type": "code",
   "execution_count": 1,
   "id": "67b6adf2",
   "metadata": {
    "tags": [
     "remove-input"
    ]
   },
   "outputs": [
    {
     "name": "stdout",
     "output_type": "stream",
     "text": [
      "Molecular weigh of Aflibercept is 48,458.67 Da.\n",
      "Total number of amino acid in Aflibercept is 431.\n"
     ]
    }
   ],
   "source": [
    "from Bio import SeqIO\n",
    "from Bio.SeqUtils.ProtParam import ProteinAnalysis\n",
    "\n",
    "record = SeqIO.read(\"../data/sequence.fasta\", \"fasta\")\n",
    "# print(record)\n",
    "total_aa = len(record.seq)\n",
    "my_seq = str(record.seq)\n",
    "analyzed_seq = ProteinAnalysis(my_seq)\n",
    "mw = analyzed_seq.molecular_weight()\n",
    "target_name = record.name\n",
    "\n",
    "print(f'Molecular weigh of {target_name} is {mw:,.2f} Da.')\n",
    "print(f'Total number of amino acid in {target_name} is {total_aa}.')"
   ]
  },
  {
   "cell_type": "markdown",
   "id": "e1628320",
   "metadata": {},
   "source": [
    " ## Chemical composition\n",
    "\n",
    "\n",
    "A chemical formula is a way of presenting information about the chemical proportions of atoms that constitute a particular chemical compound or molecule, using chemical element symbols, numbers, and sometimes also other symbols, such as parentheses, dashes, brackets, commas and plus (+) and minus (−) signs. These are limited to a single typographic line of symbols, which may include subscripts and superscripts.\n"
   ]
  },
  {
   "cell_type": "code",
   "execution_count": 2,
   "id": "03b09bc2",
   "metadata": {
    "tags": [
     "remove-input"
    ]
   },
   "outputs": [
    {
     "name": "stdout",
     "output_type": "stream",
     "text": [
      "Chemical formula of Aflibercept is C2159H3404N582O652S16.\n",
      "Total number of atom in Aflibercept is 6813.\n"
     ]
    }
   ],
   "source": [
    "def getMF(subSeq):\n",
    "    listofaminoacids = []\n",
    "    #Dictionary for each amino acid with atoms for each\n",
    "    A = {'C':3, 'H':7, 'N':1, 'O':2, 'S':0}\n",
    "    R = {'C':6, 'H':14,'N':4, 'O':2, 'S':0}\n",
    "    N = {'C':4, 'H':8, 'N':2, 'O':3, 'S':0}\n",
    "    D = {'C':4, 'H':7, 'N':1, 'O':4, 'S':0}\n",
    "    C = {'C':3, 'H':7, 'N':1, 'O':2, 'S':1}\n",
    "    Q = {'C':5, 'H':10,'N':2, 'O':3, 'S':0}\n",
    "    E = {'C':5, 'H':9, 'N':1, 'O':4, 'S':0}\n",
    "    G = {'C':2, 'H':5, 'N':1, 'O':2, 'S':0}\n",
    "    H = {'C':6, 'H':9, 'N':3, 'O':2, 'S':0}\n",
    "    I = {'C':6, 'H':13,'N':1, 'O':2, 'S':0}\n",
    "    L = {'C':6, 'H':13,'N':1, 'O':2, 'S':0}\n",
    "    K = {'C':6, 'H':14,'N':2, 'O':2, 'S':0}\n",
    "    M = {'C':5, 'H':11,'N':1, 'O':2, 'S':1}\n",
    "    F = {'C':9, 'H':11,'N':1, 'O':2, 'S':0}\n",
    "    P = {'C':5, 'H':9, 'N':1, 'O':2, 'S':0}\n",
    "    S = {'C':3, 'H':7, 'N':1, 'O':3, 'S':0}\n",
    "    T = {'C':4, 'H':9, 'N':1, 'O':3, 'S':0}\n",
    "    W = {'C':11,'H':12,'N':2, 'O':2, 'S':0}\n",
    "    Y = {'C':9, 'H':11,'N':1, 'O':3, 'S':0}\n",
    "    V = {'C':5, 'H':11,'N':1, 'O':2, 'S':0}\n",
    "    \n",
    "    dictOfAmino = {'A':A,'R':R,'N':N,'D':D,'C':C,'Q':Q, 'E':E, 'G':G,'H':H,'I':I,\n",
    "                   'L':L,'K':K,'M':M,'F':F,'P':P,'S':S,'T':T,'W':W,'Y':Y,'V':V}\n",
    "    mySeq = subSeq\n",
    "    analysis = ProteinAnalysis(mySeq)\n",
    "    listofaminoacids.append(analysis.count_amino_acids())\n",
    "\n",
    "    for i in listofaminoacids:\n",
    "        carbonTotal = 0\n",
    "        hydrogenTotal = 0\n",
    "        oxygenTotal = 0\n",
    "        nitrogenTotal = 0\n",
    "        sulfurTotal = 0\n",
    "        peptideBonds = 0\n",
    "        \n",
    "        for value in i:\n",
    "                for amino in dictOfAmino:\n",
    "                        \n",
    "                        if value == amino:\n",
    "                                peptideBonds = peptideBonds + i[value]\n",
    "                                thisAmino = {}\n",
    "                                thisAmino = dictOfAmino[amino]\n",
    "                                carbonTotal = carbonTotal + (i[value]*thisAmino['C'])\n",
    "                                hydrogenTotal = hydrogenTotal + (i[value]*thisAmino['H'])\n",
    "                                oxygenTotal = oxygenTotal + (i[value]*thisAmino['O'])\n",
    "                                nitrogenTotal = nitrogenTotal + (i[value]*thisAmino['N'])\n",
    "                                sulfurTotal = sulfurTotal + (i[value]*thisAmino['S'])\n",
    "                                                             \n",
    "        #Correcting totals for peptide bond loss of water\n",
    "        peptideBonds = peptideBonds - 1\n",
    "        hydrogenTotal = hydrogenTotal -(peptideBonds*2)\n",
    "        oxygenTotal = oxygenTotal - (peptideBonds*1)\n",
    "        outString = \"C\" + str(carbonTotal) + \"H\" + str(hydrogenTotal) + \"N\" + str(nitrogenTotal) + \"O\" + str(oxygenTotal) + \"S\" + str(sulfurTotal)\n",
    "        total_atom = carbonTotal+hydrogenTotal+nitrogenTotal+oxygenTotal+sulfurTotal\n",
    "        return outString, total_atom\n",
    "    \n",
    "print(f'Chemical formula of {target_name} is {getMF(my_seq)[0]}.')\n",
    "print(f'Total number of atom in {target_name} is {getMF(my_seq)[1]}.')"
   ]
  },
  {
   "cell_type": "markdown",
   "id": "37e27cf9",
   "metadata": {},
   "source": [
    "## Amino acid composition\n",
    "\n",
    "We can easily count the number of each type of amino acid.\n",
    "\n",
    "### Number of each amino acids\n",
    "\n",
    "Simply counts the number times an amino acid is repeated in the protein sequence."
   ]
  },
  {
   "cell_type": "code",
   "execution_count": 3,
   "id": "f71952ea",
   "metadata": {
    "tags": [
     "remove-input"
    ]
   },
   "outputs": [
    {
     "data": {
      "image/png": "[encoded data removed]",
      "text/plain": [
       "<Figure size 864x432 with 1 Axes>"
      ]
     },
     "metadata": {
      "needs_background": "light"
     },
     "output_type": "display_data"
    }
   ],
   "source": [
    "import matplotlib.pyplot as plt\n",
    "\n",
    "plt.figure(figsize=(12,6))\n",
    "plt.style.use('ggplot')\n",
    "\n",
    "data = analyzed_seq.count_amino_acids()\n",
    "names = list(data.keys())\n",
    "values = list(data.values())\n",
    "\n",
    "plt.bar(range(len(data)), values, tick_label=names)\n",
    "plt.show()"
   ]
  },
  {
   "cell_type": "code",
   "execution_count": 4,
   "id": "60101921",
   "metadata": {
    "tags": [
     "remove-input"
    ]
   },
   "outputs": [
    {
     "name": "stdout",
     "output_type": "stream",
     "text": [
      "Total number of positively charged residues (Arg + Lys) of Aflibercept is 51.\n",
      "Total number of negatively charged residues (Asp + Glu) of Aflibercept is 48.\n"
     ]
    }
   ],
   "source": [
    "negative_res = data['D']+data['E']\n",
    "positive_res = data['K']+data['R']\n",
    "\n",
    "print(f'Total number of positively charged residues (Arg + Lys) of {target_name} is {positive_res}.')\n",
    "print(f'Total number of negatively charged residues (Asp + Glu) of {target_name} is {negative_res}.')"
   ]
  },
  {
   "cell_type": "markdown",
   "id": "c9fbd847",
   "metadata": {},
   "source": [
    "### Percent of amino acid contents\n",
    "\n",
    "The same as number of amino acid, only returns the number in percentage of entire sequence. When the total is taken as 100, the ratio of each amino acid is calculated."
   ]
  },
  {
   "cell_type": "code",
   "execution_count": 5,
   "id": "4ca06840",
   "metadata": {
    "scrolled": false,
    "tags": [
     "remove-input"
    ]
   },
   "outputs": [
    {
     "data": {
      "image/png": "[encoded data removed]",
      "text/plain": [
       "<Figure size 864x864 with 1 Axes>"
      ]
     },
     "metadata": {},
     "output_type": "display_data"
    }
   ],
   "source": [
    "plt.figure(figsize=(12,12))\n",
    "\n",
    "data = analyzed_seq.get_amino_acids_percent()\n",
    "names = list(data.keys())\n",
    "values = list(data.values())\n",
    "# colors = ['#69D2E7', '#A7DBD8', '#E0E4CC', '#F38630', '#FA6900'] #goldfish\n",
    "colors = ['#ECD078', '#D95B43', '#C02942', '#542437', '#53777A'] #Thought Provoking\n",
    "wedgeprops={'width': 0.3, 'edgecolor': 'w', 'linewidth': 5}\n",
    "\n",
    "plt.pie(values, labels=names, autopct='%.1f%%', startangle=45, labeldistance=1.,\n",
    "        counterclock=False, colors=colors, wedgeprops=wedgeprops)\n",
    "plt.show()"
   ]
  },
  {
   "cell_type": "markdown",
   "id": "8e3ba270",
   "metadata": {},
   "source": [
    "## Theoretical pI\n",
    "\n",
    "The isoelectric point (pI, pH(I), IEP), is the pH at which a molecule carries no net electrical charge or is electrically neutral in the statistical mean. \n",
    "\n",
    "The pI value can affect the solubility of a molecule at a given pH. Such molecules have minimum solubility in water or salt solutions at the pH that corresponds to their pI and often precipitate out of solution. Biological amphoteric molecules such as proteins contain both acidic and basic functional groups. "
   ]
  },
  {
   "cell_type": "code",
   "execution_count": 6,
   "id": "cf5b2aa0",
   "metadata": {
    "tags": [
     "remove-input"
    ]
   },
   "outputs": [
    {
     "name": "stdout",
     "output_type": "stream",
     "text": [
      "Theoretical pI is 8.198.\n"
     ]
    }
   ],
   "source": [
    "print(f\"Theoretical pI is {analyzed_seq.isoelectric_point():.3f}.\")"
   ]
  },
  {
   "cell_type": "markdown",
   "id": "b8742524",
   "metadata": {},
   "source": [
    "### Charge of target protein ins PBS\n",
    "\n",
    "Phosphate-buffered saline (abbreviated PBS) is a buffer solution (pH ~ 7.4) commonly used in biological research. \n",
    "\n",
    "\n",
    "```{note}\n",
    "PBS has many uses because it is isotonic and non-toxic to most cells\n",
    "```"
   ]
  },
  {
   "cell_type": "code",
   "execution_count": 7,
   "id": "4a48bce0",
   "metadata": {
    "tags": [
     "remove-input"
    ]
   },
   "outputs": [
    {
     "name": "stdout",
     "output_type": "stream",
     "text": [
      "Aflibercept is positive charged(+2.436) in PBS\n"
     ]
    }
   ],
   "source": [
    "#Calculates the charge of the protein for a given pH\n",
    "charge = analyzed_seq.charge_at_pH(7.4)\n",
    "if charge > 0:\n",
    "    print(f\"{target_name} is positive charged(+{charge:.3f}) in PBS\")\n",
    "elif charge == 0:\n",
    "    print(f\"{target_name} is neutral in PBS\")\n",
    "else:\n",
    "    print(f\"{target_name} is negative charged({charge:.3f}) in PBS\")"
   ]
  },
  {
   "cell_type": "markdown",
   "id": "cd05dee3",
   "metadata": {},
   "source": [
    "## Extinction coefficient\n",
    "\n",
    "Extinction (or extinction coefficient) is defined as the ratio of maximum to minimum transmission of a beam of light that passes through a polarization optical train.\n",
    "\n",
    "extinction coefficient in units of  M<sup>-1</sup> cm<sup>-1</sup>, at 280 nm measured in water.\n",
    "\n",
    "\n",
    "### with reduced cysteines\n"
   ]
  },
  {
   "cell_type": "code",
   "execution_count": 8,
   "id": "01877773",
   "metadata": {
    "tags": [
     "remove-input"
    ]
   },
   "outputs": [
    {
     "name": "stdout",
     "output_type": "stream",
     "text": [
      "Extinction coefficient of Aflibercept at reduced condition is 55350.\n",
      "Abs 0.1%(=1 g/L) is 1.142.\n"
     ]
    }
   ],
   "source": [
    "epsilon_prot = analyzed_seq.molar_extinction_coefficient()\n",
    "print(f\"Extinction coefficient of {target_name} at reduced condition is {epsilon_prot[0]}.\")  # with reduced cysteine\n",
    "print(f'Abs 0.1%(=1 g/L) is {epsilon_prot[0]/analyzed_seq.molecular_weight():.3f}.')"
   ]
  },
  {
   "cell_type": "markdown",
   "id": "c5b53394",
   "metadata": {},
   "source": [
    "### with non-reduced cysteines"
   ]
  },
  {
   "cell_type": "code",
   "execution_count": 9,
   "id": "33a932da",
   "metadata": {
    "tags": [
     "remove-input"
    ]
   },
   "outputs": [
    {
     "name": "stdout",
     "output_type": "stream",
     "text": [
      "Extinction coefficient of Aflibercept at non-reduced condition is 55975.\n",
      "Abs 0.1%(=1 g/L) is 1.155.\n"
     ]
    }
   ],
   "source": [
    "epsilon_prot = analyzed_seq.molar_extinction_coefficient()\n",
    "print(f\"Extinction coefficient of {target_name} at non-reduced condition is {epsilon_prot[1]}.\")\n",
    "print(f'Abs 0.1%(=1 g/L) is {epsilon_prot[1]/analyzed_seq.molecular_weight():.3f}.')"
   ]
  },
  {
   "cell_type": "markdown",
   "id": "5f9a4aeb",
   "metadata": {},
   "source": [
    "## Aromaticity\n",
    "\n",
    "Calculate the aromaticity according to Lobry, 1994. Calculates the aromaticity value of a protein according to Lobry, 1994. It is simply the relative frequency of Phe+Trp+Tyr.\n",
    "\n"
   ]
  },
  {
   "cell_type": "code",
   "execution_count": 10,
   "id": "34e06e1a",
   "metadata": {
    "tags": [
     "remove-input"
    ]
   },
   "outputs": [
    {
     "name": "stdout",
     "output_type": "stream",
     "text": [
      "The Aromaticity of target protein is 7.889%.\n"
     ]
    }
   ],
   "source": [
    "print(f\"The Aromaticity of target protein is {analyzed_seq.aromaticity()*100:.3f}%.\")"
   ]
  },
  {
   "cell_type": "markdown",
   "id": "5c5f1575",
   "metadata": {},
   "source": [
    "## GRAVY\n",
    "\n",
    "Protein GRAVY returns the GRAVY (grand average of hydropathy) value for the protein sequences you enter. The GRAVY value is calculated by adding the hydropathy value for each residue and dividing by the length of the sequence (Kyte and Doolittle; 1982). \n",
    "\n",
    "A higher value is more hydrophobic. A lower value is more hydrophilic."
   ]
  },
  {
   "cell_type": "code",
   "execution_count": 11,
   "id": "96c5484c",
   "metadata": {
    "tags": [
     "remove-input"
    ]
   },
   "outputs": [
    {
     "name": "stdout",
     "output_type": "stream",
     "text": [
      "Aflibercept is kind a more hydrophilic protein. The GRAVY value is -0.460.\n"
     ]
    }
   ],
   "source": [
    "gravy_value = analyzed_seq.gravy()\n",
    "if gravy_value > 0:\n",
    "    print(f\"{target_name} is kind a more hydrophobic protein like membrane protein. The GRAVY value is {gravy_value:.3f}.\")\n",
    "else:\n",
    "    print(f\"{target_name} is kind a more hydrophilic protein. The GRAVY value is {gravy_value:.3f}.\")"
   ]
  },
  {
   "cell_type": "markdown",
   "id": "7fba7a3c",
   "metadata": {},
   "source": [
    "## Instability_index\n",
    "\n",
    "Implementation of the method of Guruprasad et al. (1990, Protein Engineering, 4, 155-161). This method tests a protein for stability. Any value above 40 means the protein is unstable (=has a short half life)."
   ]
  },
  {
   "cell_type": "code",
   "execution_count": 12,
   "id": "4870382b",
   "metadata": {
    "tags": [
     "remove-input"
    ]
   },
   "outputs": [
    {
     "name": "stdout",
     "output_type": "stream",
     "text": [
      "The instability index of Aflibercept is computed to be 39.222, and it seems stable.\n"
     ]
    }
   ],
   "source": [
    "instab = analyzed_seq.instability_index()\n",
    "if instab >= 40:\n",
    "    print(f\"The instability index of {target_name} is computed to be {instab:.3f}, and it seems unstable.\")\n",
    "else:\n",
    "    print(f\"The instability index of {target_name} is computed to be {instab:.3f}, and it seems stable.\")"
   ]
  }
 ],
 "metadata": {
  "celltoolbar": "Edit Metadata",
  "kernelspec": {
   "display_name": "Python 3 (ipykernel)",
   "language": "python",
   "name": "python3"
  },
  "language_info": {
   "codemirror_mode": {
    "name": "ipython",
    "version": 3
   },
   "file_extension": ".py",
   "mimetype": "text/x-python",
   "name": "python",
   "nbconvert_exporter": "python",
   "pygments_lexer": "ipython3",
   "version": "3.10.4"
  }
 },
 "nbformat": 4,
 "nbformat_minor": 5
}
