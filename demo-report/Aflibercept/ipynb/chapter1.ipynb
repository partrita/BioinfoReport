{
 "cells": [
  {
   "cell_type": "markdown",
   "id": "429a0527",
   "metadata": {},
   "source": [
    "\n",
    "# 1. Protein parameters analysis\n",
    "\n",
    "The program performs most of the same functions as the Expasy ProtParam tool.\n",
    "Protein parameters for analysing protein sequences. \n",
    "\n",
    "The program calculates:\n",
    "\n",
    "1. Molecular weight\n",
    "2. Chemicalcomposition\n",
    "3. Amino acid composition\n",
    "4. pI\n",
    "5. Extinction coefficient\n",
    "6. Secondary structure fraction\n",
    "7. Hydrophobicity\n",
    "8. Aliphatic Index and GRAVY\n",
    "\n",
    "\n",
    "## Input sequences\n",
    "\n",
    "```\n",
    "SDTGRPFVEM YSEIPEIIHM TEGRELVIPC RVTSPNITVT LKKFPLDTLI PDGKRIIWDS\n",
    "RKGFIISNAT YKEIGLLTCE ATVNGHLYKT NYLTHRQTNT IIDVVLSPSH GIELSVGEKL\n",
    "VLNCTARTEL NVGIDFNWEY PSSKHQHKKL VNRDLKTQSG SEMKKFLSTL TIDGVTRSDQ\n",
    "GLYTCAASSG LMTKKNSTFV RVHEKDKTHT CPPCPAPELL GGPSVFLFPP KPKDTLMISR\n",
    "TPEVTCVVVD VSHEDPEVKF NWYVDGVEVH NAKTKPREEQ YNSTYRVVSV LTVLHQDWLN\n",
    "GKEYKCKVSN KALPAPIEKT ISKAKGQPRE PQVYTLPPSR DELTKNQVSL TCLVKGFYPS\n",
    "DIAVEWESNG QPENNYKTTP PVLDSDGSFF LYSKLTVDKS RWQQGNVFSC SVMHEALHNH\n",
    "YTQKSLSLSP G\n",
    "```\n",
    "(Disulfide bridge: 30-79, 124-185, 246-306, 352-410, 211-211', 214-214')\n",
    "\n",
    "\n",
    "## 1.1. Molecular weight\n",
    "\n",
    "Amino acids are the building blocks that form polypeptides and ultimately proteins. We can calculate the molecular weight of the polypeptide."
   ]
  },
  {
   "cell_type": "code",
   "execution_count": 141,
   "id": "67b6adf2",
   "metadata": {},
   "outputs": [
    {
     "name": "stdout",
     "output_type": "stream",
     "text": [
      "Molecular weigh is 48,458.67 Da.\n",
      "Total number of amino acid is 431.\n"
     ]
    }
   ],
   "source": [
    "from Bio import SeqIO\n",
    "from Bio.SeqUtils.ProtParam import ProteinAnalysis\n",
    "\n",
    "record = SeqIO.read(\"../data/sequence.fasta\", \"fasta\")\n",
    "# print(record)\n",
    "total_aa = len(record.seq)\n",
    "my_seq = str(record.seq)\n",
    "analyzed_seq = ProteinAnalysis(my_seq)\n",
    "mw = analyzed_seq.molecular_weight()\n",
    "\n",
    "print(f'Molecular weigh is {mw:,.2f} Da.')\n",
    "print(f'Total number of amino acid is {total_aa}.')"
   ]
  },
  {
   "cell_type": "markdown",
   "id": "e1628320",
   "metadata": {},
   "source": [
    " ## 1.2. Chemical composition\n",
    "\n",
    "\n",
    "A chemical formula is a way of presenting information about the chemical proportions of atoms that constitute a particular chemical compound or molecule, using chemical element symbols, numbers, and sometimes also other symbols, such as parentheses, dashes, brackets, commas and plus (+) and minus (−) signs. These are limited to a single typographic line of symbols, which may include subscripts and superscripts.\n"
   ]
  },
  {
   "cell_type": "code",
   "execution_count": 145,
   "id": "03b09bc2",
   "metadata": {},
   "outputs": [
    {
     "name": "stdout",
     "output_type": "stream",
     "text": [
      "Chemical formula of target protein is C2159H3404N582O652S16.\n",
      "Total number of atom is 6813.\n"
     ]
    }
   ],
   "source": [
    "def getMF(subSeq):\n",
    "    listofaminoacids = []\n",
    "    #Dictionary for each amino acid with atoms for each\n",
    "    A = {'C':3, 'H':7, 'N':1, 'O':2, 'S':0}\n",
    "    R = {'C':6, 'H':14,'N':4, 'O':2, 'S':0}\n",
    "    N = {'C':4, 'H':8, 'N':2, 'O':3, 'S':0}\n",
    "    D = {'C':4, 'H':7, 'N':1, 'O':4, 'S':0}\n",
    "    C = {'C':3, 'H':7, 'N':1, 'O':2, 'S':1}\n",
    "    Q = {'C':5, 'H':10,'N':2, 'O':3, 'S':0}\n",
    "    E = {'C':5, 'H':9, 'N':1, 'O':4, 'S':0}\n",
    "    G = {'C':2, 'H':5, 'N':1, 'O':2, 'S':0}\n",
    "    H = {'C':6, 'H':9, 'N':3, 'O':2, 'S':0}\n",
    "    I = {'C':6, 'H':13,'N':1, 'O':2, 'S':0}\n",
    "    L = {'C':6, 'H':13,'N':1, 'O':2, 'S':0}\n",
    "    K = {'C':6, 'H':14,'N':2, 'O':2, 'S':0}\n",
    "    M = {'C':5, 'H':11,'N':1, 'O':2, 'S':1}\n",
    "    F = {'C':9, 'H':11,'N':1, 'O':2, 'S':0}\n",
    "    P = {'C':5, 'H':9, 'N':1, 'O':2, 'S':0}\n",
    "    S = {'C':3, 'H':7, 'N':1, 'O':3, 'S':0}\n",
    "    T = {'C':4, 'H':9, 'N':1, 'O':3, 'S':0}\n",
    "    W = {'C':11,'H':12,'N':2, 'O':2, 'S':0}\n",
    "    Y = {'C':9, 'H':11,'N':1, 'O':3, 'S':0}\n",
    "    V = {'C':5, 'H':11,'N':1, 'O':2, 'S':0}\n",
    "    \n",
    "    dictOfAmino = {'A':A,'R':R,'N':N,'D':D,'C':C,'Q':Q, 'E':E, 'G':G,'H':H,'I':I,\n",
    "                   'L':L,'K':K,'M':M,'F':F,'P':P,'S':S,'T':T,'W':W,'Y':Y,'V':V}\n",
    "    mySeq = subSeq\n",
    "    analysis = ProteinAnalysis(mySeq)\n",
    "    listofaminoacids.append(analysis.count_amino_acids())\n",
    "\n",
    "    for i in listofaminoacids:\n",
    "        carbonTotal = 0\n",
    "        hydrogenTotal = 0\n",
    "        oxygenTotal = 0\n",
    "        nitrogenTotal = 0\n",
    "        sulfurTotal = 0\n",
    "        peptideBonds = 0\n",
    "        \n",
    "        for value in i:\n",
    "                for amino in dictOfAmino:\n",
    "                        \n",
    "                        if value == amino:\n",
    "                                peptideBonds = peptideBonds + i[value]\n",
    "                                thisAmino = {}\n",
    "                                thisAmino = dictOfAmino[amino]\n",
    "                                carbonTotal = carbonTotal + (i[value]*thisAmino['C'])\n",
    "                                hydrogenTotal = hydrogenTotal + (i[value]*thisAmino['H'])\n",
    "                                oxygenTotal = oxygenTotal + (i[value]*thisAmino['O'])\n",
    "                                nitrogenTotal = nitrogenTotal + (i[value]*thisAmino['N'])\n",
    "                                sulfurTotal = sulfurTotal + (i[value]*thisAmino['S'])\n",
    "                                                             \n",
    "        #Correcting totals for peptide bond loss of water\n",
    "        peptideBonds = peptideBonds - 1\n",
    "        hydrogenTotal = hydrogenTotal -(peptideBonds*2)\n",
    "        oxygenTotal = oxygenTotal - (peptideBonds*1)\n",
    "        outString = \"C\" + str(carbonTotal) + \"H\" + str(hydrogenTotal) + \"N\" + str(nitrogenTotal) + \"O\" + str(oxygenTotal) + \"S\" + str(sulfurTotal)\n",
    "        total_atom = carbonTotal+hydrogenTotal+nitrogenTotal+oxygenTotal+sulfurTotal\n",
    "        return outString, total_atom\n",
    "    \n",
    "print(f'Chemical formula of target protein is {getMF(my_seq)[0]}.')\n",
    "print(f'Total number of atom is {getMF(my_seq)[1]}.')"
   ]
  },
  {
   "cell_type": "markdown",
   "id": "37e27cf9",
   "metadata": {},
   "source": [
    "## 1.3. Amino acid composition\n",
    "\n",
    "We can easily count the number of each type of amino acid.\n",
    "\n",
    "### 1.3.1. Number of each amino acids"
   ]
  },
  {
   "cell_type": "code",
   "execution_count": 90,
   "id": "f71952ea",
   "metadata": {},
   "outputs": [
    {
     "data": {
      "image/png": "[encoded data removed]",
      "text/plain": [
       "<Figure size 864x432 with 1 Axes>"
      ]
     },
     "metadata": {},
     "output_type": "display_data"
    }
   ],
   "source": [
    "import matplotlib.pyplot as plt\n",
    "\n",
    "plt.figure(figsize=(12,6))\n",
    "plt.style.use('ggplot')\n",
    "\n",
    "data = analyzed_seq.count_amino_acids()\n",
    "names = list(data.keys())\n",
    "values = list(data.values())\n",
    "\n",
    "plt.bar(range(len(data)), values, tick_label=names)\n",
    "plt.show()"
   ]
  },
  {
   "cell_type": "markdown",
   "id": "c9fbd847",
   "metadata": {},
   "source": [
    "### 1.3.2. Percent of amino acid contents\n",
    "\n",
    "전체를 백으로 보았을때 각각의 아미노산 비율은 다음과 같습니다."
   ]
  },
  {
   "cell_type": "code",
   "execution_count": 91,
   "id": "4ca06840",
   "metadata": {
    "scrolled": false
   },
   "outputs": [
    {
     "data": {
      "image/png": "[encoded data removed]",
      "text/plain": [
       "<Figure size 864x864 with 1 Axes>"
      ]
     },
     "metadata": {},
     "output_type": "display_data"
    }
   ],
   "source": [
    "plt.figure(figsize=(12,12))\n",
    "\n",
    "data = analyzed_seq.get_amino_acids_percent()\n",
    "names = list(data.keys())\n",
    "values = list(data.values())\n",
    "colors = ['#ff9999', '#ffc000', '#8fd9b6', '#d395d0']\n",
    "wedgeprops={'width': 0.3, 'edgecolor': 'w', 'linewidth': 5}\n",
    "\n",
    "plt.pie(values, labels=names, autopct='%.1f%%', startangle=90,\n",
    "        counterclock=False, colors=colors, wedgeprops=wedgeprops)\n",
    "plt.show()"
   ]
  },
  {
   "cell_type": "code",
   "execution_count": 110,
   "id": "60101921",
   "metadata": {},
   "outputs": [
    {
     "name": "stdout",
     "output_type": "stream",
     "text": [
      "Total number of positively charged residues (Arg + Lys): 51.\n",
      "Total number of negatively charged residues (Asp + Glu): 48.\n"
     ]
    }
   ],
   "source": [
    "negative_res = data['D']+data['E']\n",
    "positive_res = data['K']+data['R']\n",
    "\n",
    "print(f'Total number of positively charged residues (Arg + Lys): {positive_res}.')\n",
    "print(f'Total number of negatively charged residues (Asp + Glu): {negative_res}.')"
   ]
  },
  {
   "cell_type": "markdown",
   "id": "8e3ba270",
   "metadata": {},
   "source": [
    "## 1.4. Theoretical pI\n",
    "\n",
    "The isoelectric point (pI, pH(I), IEP), is the pH at which a molecule carries no net electrical charge or is electrically neutral in the statistical mean. \n",
    "\n",
    "The pI value can affect the solubility of a molecule at a given pH. Such molecules have minimum solubility in water or salt solutions at the pH that corresponds to their pI and often precipitate out of solution. Biological amphoteric molecules such as proteins contain both acidic and basic functional groups. "
   ]
  },
  {
   "cell_type": "code",
   "execution_count": 93,
   "id": "cf5b2aa0",
   "metadata": {},
   "outputs": [
    {
     "name": "stdout",
     "output_type": "stream",
     "text": [
      "Theoretical pI is 8.198\n"
     ]
    }
   ],
   "source": [
    "print(f\"Theoretical pI is {analyzed_seq.isoelectric_point():.3f}.\")"
   ]
  },
  {
   "cell_type": "markdown",
   "id": "b8742524",
   "metadata": {},
   "source": [
    "### 1.4.1. Charge of target protein ins PBS\n",
    "\n",
    "Phosphate-buffered saline (abbreviated PBS) is a buffer solution (pH ~ 7.4) commonly used in biological research. \n",
    "\n",
    "> PBS has many uses because it is isotonic and non-toxic to most cells"
   ]
  },
  {
   "cell_type": "code",
   "execution_count": 99,
   "id": "4a48bce0",
   "metadata": {},
   "outputs": [
    {
     "name": "stdout",
     "output_type": "stream",
     "text": [
      "Target protein is positive charge(2.436) in PBS\n"
     ]
    }
   ],
   "source": [
    "#Calculates the charge of the protein for a given pH\n",
    "charge = analyzed_seq.charge_at_pH(7.4)\n",
    "if charge > 0:\n",
    "    print(f\"Target protein is positive charge({charge:.3f}) in PBS\")\n",
    "elif charge == 0:\n",
    "    print(f\"Target protein is neutral charge({charge:.3f}) in PBS\")\n",
    "else:\n",
    "    print(f\"Target protein is negative charge({charge:.3f}) in PBS\")\n",
    "# print(f\"Charge of target protein in PBS(pH 7.4) is {analyzed_seq.charge_at_pH(7.4):.3f}.\")"
   ]
  },
  {
   "cell_type": "markdown",
   "id": "cd05dee3",
   "metadata": {},
   "source": [
    "## 1.5. Extinction coefficient\n",
    "\n",
    "Extinction (or extinction coefficient) is defined as the ratio of maximum to minimum transmission of a beam of light that passes through a polarization optical train.\n",
    "\n",
    "extinction coefficient in units of  M<sup>-1</sup> cm<sup>-1</sup>, at 280 nm measured in water.\n",
    "\n",
    "\n",
    "## 1.5.1 with reduced cysteines\n"
   ]
  },
  {
   "cell_type": "code",
   "execution_count": 100,
   "id": "01877773",
   "metadata": {},
   "outputs": [
    {
     "name": "stdout",
     "output_type": "stream",
     "text": [
      "Extinction coefficient of target protein at reduced condition is 55350\n"
     ]
    }
   ],
   "source": [
    "epsilon_prot = analyzed_seq.molar_extinction_coefficient()\n",
    "print(f\"Extinction coefficient of target protein at reduced condition is {epsilon_prot[0]}.\")  # with reduced cysteines"
   ]
  },
  {
   "cell_type": "code",
   "execution_count": 101,
   "id": "b50d7ad5",
   "metadata": {},
   "outputs": [
    {
     "name": "stdout",
     "output_type": "stream",
     "text": [
      "Abs 0.1%(=1 g/L) is 1.142\n"
     ]
    }
   ],
   "source": [
    "print(f'Abs 0.1%(=1 g/L) is {epsilon_prot[0]/analyzed_seq.molecular_weight():.3f}.')"
   ]
  },
  {
   "cell_type": "markdown",
   "id": "c5b53394",
   "metadata": {},
   "source": [
    "## 1.5.2 with disulfid bridges"
   ]
  },
  {
   "cell_type": "code",
   "execution_count": 103,
   "id": "33a932da",
   "metadata": {},
   "outputs": [
    {
     "name": "stdout",
     "output_type": "stream",
     "text": [
      "Extinction coefficient of target protein at non-reduced condition is 55975.\n"
     ]
    }
   ],
   "source": [
    "epsilon_prot = analyzed_seq.molar_extinction_coefficient()\n",
    "print(f\"Extinction coefficient of target protein at non-reduced condition is {epsilon_prot[1]}.\")"
   ]
  },
  {
   "cell_type": "code",
   "execution_count": 105,
   "id": "fe9f17b0",
   "metadata": {},
   "outputs": [
    {
     "name": "stdout",
     "output_type": "stream",
     "text": [
      "Abs 0.1%(=1 g/L) is 1.155.\n"
     ]
    }
   ],
   "source": [
    "print(f'Abs 0.1%(=1 g/L) is {epsilon_prot[1]/analyzed_seq.molecular_weight():.3f}.')"
   ]
  },
  {
   "cell_type": "markdown",
   "id": "7f307f06",
   "metadata": {},
   "source": [
    "## 1.6. Secondary structure fraction\n",
    "\n",
    "A very useful method — .secondary_structure_fraction() — returns the fraction of amino acids that tend to be found in the three classical secondary structures. These are beta sheets, alpha helixes, and turns (where the residues change direction).\n",
    "\n",
    "Secondary_structure_fraction: This methods returns a list of the fraction of amino acids which tend to be in helix, turn or sheet.\n",
    "  + Amino acids in helix: V, I, Y, F, W, L.\n",
    "  + Amino acids in turn: N, P, G, S.\n",
    "  + Amino acids in sheet: E, M, A, L.\n"
   ]
  },
  {
   "cell_type": "code",
   "execution_count": 136,
   "id": "e97152d9",
   "metadata": {},
   "outputs": [
    {
     "data": {
      "image/png": "[encoded data removed]",
      "text/plain": [
       "<Figure size 432x432 with 1 Axes>"
      ]
     },
     "metadata": {},
     "output_type": "display_data"
    }
   ],
   "source": [
    "plt.figure(figsize=(6,6))\n",
    "\n",
    "data = analyzed_seq.secondary_structure_fraction()\n",
    "rest = (1-sum(analyzed_seq.secondary_structure_fraction()),)\n",
    "names = ['Helix','Turn','Sheet','Disorder']\n",
    "values = analyzed_seq.secondary_structure_fraction() + rest\n",
    "colors = ['#ff9999', '#ffc000', '#8fd9b6', '#d395d0']\n",
    "wedgeprops={'width': 0.3, 'edgecolor': 'w', 'linewidth': 5}\n",
    "\n",
    "plt.pie(values, labels=names, autopct='%.1f%%', startangle=90,\n",
    "        counterclock=False, colors=colors, wedgeprops=wedgeprops)\n",
    "plt.show()"
   ]
  },
  {
   "cell_type": "markdown",
   "id": "5c5f1575",
   "metadata": {},
   "source": [
    "## GRAVY\n",
    "\n",
    "> Protein GRAVY returns the GRAVY (grand average of hydropathy) value for the protein sequences you enter. The GRAVY value is calculated by adding the hydropathy value for each residue and dividing by the length of the sequence (Kyte and Doolittle; 1982).\n",
    "\n",
    "A higher value is more hydrophobic. A lower value is more hydrophilic. We’ll discuss later how to generate residue by residue hydrophobicity later."
   ]
  },
  {
   "cell_type": "code",
   "execution_count": 6,
   "id": "96c5484c",
   "metadata": {},
   "outputs": [
    {
     "data": {
      "text/plain": [
       "-0.4598607888631092"
      ]
     },
     "execution_count": 6,
     "metadata": {},
     "output_type": "execute_result"
    }
   ],
   "source": [
    "analyzed_seq.gravy()"
   ]
  },
  {
   "cell_type": "markdown",
   "id": "17c9aee5",
   "metadata": {},
   "source": []
  },
  {
   "cell_type": "markdown",
   "id": "c826db5e",
   "metadata": {},
   "source": [
    "## Protein Scales\n",
    "\n",
    "Protein scales are a way of measuring certain attributes of residues over the length of the peptide sequence using a sliding window. Scales are comprised of values for each amino acid based on different physical and chemical properties, such as hydrophobicity, secondary structure tendencies, and surface accessibility. As opposed to some chain-level measures like overall molecule behavior, scales allow a more granular understanding of how smaller sections of the sequence will behave.\n",
    "\n",
    "Some common scales include:\n",
    "\n",
    "    kd → Kyte & Doolittle Index of Hydrophobicity [Original Article]\n",
    "    Flex → Normalized average flexibility parameters (B-values) [Original Article]\n",
    "    hw → Hopp & Wood Index of Hydrophilicity [Original Article]\n",
    "    em → Emini Surface fractional probability (Surface Accessibility) [Original Book]\n",
    "    \n",
    "Let’s look at the Index of Hydrophobicity (kd) as an example. Here is the scale, where each residue has an associated value representing its level of hydrophobicity\n",
    "\n",
    "Positive values are hydrophobic. Isoleucine (I) and Valine (V) are the most hydrophobic, and Arginine (R) and Lysine (K) are the most hydrophilic. Hydrophobic residues are generally located internally in the polypeptide, while hydrophilic residues are external, so this scale also gives a sense of how this polypeptide may be folded.\n",
    "\n",
    "Protein scale analysis requires setting a window size over which an average value is calculated. You can also specify using the “edge” keyword how important the neighboring residues are, basically weighting their importance to the average for the window."
   ]
  },
  {
   "cell_type": "code",
   "execution_count": 11,
   "id": "b98fbea5",
   "metadata": {
    "scrolled": true
   },
   "outputs": [
    {
     "data": {
      "text/plain": [
       "[-1.242857142857143,\n",
       " -0.5285714285714286,\n",
       " -0.5285714285714286,\n",
       " -0.15714285714285717,\n",
       " -0.2857142857142857,\n",
       " 0.24285714285714274,\n",
       " -0.028571428571428532,\n",
       " 0.21428571428571414,\n",
       " -0.6142857142857141,\n",
       " -0.6142857142857142,\n",
       " -0.24285714285714274,\n",
       " 0.5857142857142856,\n",
       " 0.24285714285714274,\n",
       " 1.0142857142857142,\n",
       " 0.2714285714285714,\n",
       " 0.0,\n",
       " 0.4428571428571427,\n",
       " -0.8428571428571429,\n",
       " -1.9857142857142858,\n",
       " -0.9857142857142859,\n",
       " -0.6571428571428571,\n",
       " 0.08571428571428578,\n",
       " 0.35714285714285715,\n",
       " 0.7714285714285716,\n",
       " 0.7714285714285715,\n",
       " 1.8714285714285714,\n",
       " 1.2285714285714284,\n",
       " 0.5142857142857145,\n",
       " -0.35714285714285715,\n",
       " -0.6285714285714284,\n",
       " -0.3428571428571428,\n",
       " 0.19999999999999998,\n",
       " 0.20000000000000004,\n",
       " 0.19999999999999998,\n",
       " 0.857142857142857,\n",
       " 0.5285714285714287,\n",
       " 0.4714285714285714,\n",
       " 0.2285714285714286,\n",
       " 0.09999999999999996,\n",
       " 0.04285714285714277,\n",
       " -0.35714285714285726,\n",
       " -1.0,\n",
       " 0.09999999999999996,\n",
       " 1.3,\n",
       " 0.6714285714285715,\n",
       " 0.39999999999999997,\n",
       " -0.20000000000000004,\n",
       " -0.2571428571428571,\n",
       " -0.7999999999999999,\n",
       " -0.7000000000000001,\n",
       " -0.7000000000000001,\n",
       " -0.6000000000000002,\n",
       " -0.5999999999999999,\n",
       " -0.6571428571428571,\n",
       " -0.7428571428571429,\n",
       " -0.6571428571428571,\n",
       " -1.3571428571428572,\n",
       " -1.5999999999999999,\n",
       " -0.8285714285714286,\n",
       " 0.31428571428571433,\n",
       " 0.31428571428571433,\n",
       " 0.4571428571428569,\n",
       " 1.2714285714285716,\n",
       " 1.2285714285714282,\n",
       " 0.6428571428571429,\n",
       " -0.5571428571428572,\n",
       " -1.6999999999999997,\n",
       " -0.9428571428571428,\n",
       " -0.5000000000000001,\n",
       " -0.21428571428571436,\n",
       " 0.42857142857142855,\n",
       " 0.5142857142857145,\n",
       " 1.4285714285714286,\n",
       " 1.4285714285714286,\n",
       " 1.042857142857143,\n",
       " 0.9999999999999999,\n",
       " 1.057142857142857,\n",
       " 0.014285714285714266,\n",
       " 0.0571428571428571,\n",
       " -0.7571428571428571,\n",
       " 0.2857142857142857,\n",
       " -0.15714285714285717,\n",
       " -0.6142857142857144,\n",
       " -1.3142857142857143,\n",
       " -1.3142857142857145,\n",
       " -1.4428571428571428,\n",
       " -0.44285714285714295,\n",
       " -1.0857142857142856,\n",
       " -1.3571428571428572,\n",
       " -1.442857142857143,\n",
       " -1.842857142857143,\n",
       " -1.442857142857143,\n",
       " -1.7571428571428573,\n",
       " -2.4,\n",
       " -1.657142857142857,\n",
       " -0.5571428571428572,\n",
       " -0.4142857142857143,\n",
       " 0.6857142857142857,\n",
       " 1.3857142857142857,\n",
       " 2.4285714285714284,\n",
       " 2.414285714285714,\n",
       " 1.542857142857143,\n",
       " 0.7857142857142857,\n",
       " 0.8285714285714285,\n",
       " 0.17142857142857146,\n",
       " 0.21428571428571425,\n",
       " -0.8285714285714286,\n",
       " -0.17142857142857146,\n",
       " -0.0571428571428572,\n",
       " 0.6571428571428574,\n",
       " 1.0571428571428572,\n",
       " 0.6142857142857142,\n",
       " -0.5857142857142857,\n",
       " 0.45714285714285713,\n",
       " 0.5142857142857143,\n",
       " 1.1714285714285715,\n",
       " 0.07142857142857142,\n",
       " 0.48571428571428565,\n",
       " 0.8857142857142858,\n",
       " 1.6999999999999997,\n",
       " 0.5142857142857142,\n",
       " -0.18571428571428578,\n",
       " -1.2285714285714284,\n",
       " -0.18571428571428575,\n",
       " -1.042857142857143,\n",
       " -0.3428571428571429,\n",
       " -0.6571428571428573,\n",
       " 0.6285714285714287,\n",
       " 0.2285714285714287,\n",
       " 1.1285714285714283,\n",
       " 0.08571428571428573,\n",
       " 0.4571428571428572,\n",
       " -0.6428571428571429,\n",
       " -0.7714285714285715,\n",
       " -1.6428571428571428,\n",
       " -1.2571428571428573,\n",
       " -1.7714285714285716,\n",
       " -1.8285714285714285,\n",
       " -2.1571428571428575,\n",
       " -2.1571428571428575,\n",
       " -2.4285714285714284,\n",
       " -2.757142857142857,\n",
       " -3.1999999999999997,\n",
       " -2.542857142857143,\n",
       " -1.3857142857142857,\n",
       " -1.4285714285714286,\n",
       " -1.5714285714285714,\n",
       " -1.6142857142857143,\n",
       " -0.5142857142857143,\n",
       " -0.5142857142857142,\n",
       " -1.1571428571428573,\n",
       " -2.257142857142857,\n",
       " -1.8714285714285717,\n",
       " -1.2857142857142858,\n",
       " -0.9,\n",
       " -1.942857142857143,\n",
       " -1.1142857142857143,\n",
       " -1.5714285714285716,\n",
       " -1.6285714285714286,\n",
       " -1.1142857142857143,\n",
       " -0.5142857142857143,\n",
       " -0.5142857142857143,\n",
       " -0.11428571428571432,\n",
       " 0.15714285714285722,\n",
       " 0.6142857142857142,\n",
       " 1.8142857142857143,\n",
       " 0.9142857142857144,\n",
       " 0.31428571428571433,\n",
       " 1.0285714285714287,\n",
       " 1.0285714285714285,\n",
       " -0.15714285714285717,\n",
       " -0.17142857142857146,\n",
       " -1.3142857142857143,\n",
       " -1.3142857142857143,\n",
       " -1.3142857142857145,\n",
       " -1.3714285714285717,\n",
       " -1.457142857142857,\n",
       " -0.9142857142857144,\n",
       " -0.44285714285714295,\n",
       " 0.31428571428571433,\n",
       " 1.0714285714285714,\n",
       " 1.0142857142857142,\n",
       " 0.35714285714285715,\n",
       " 0.4857142857142857,\n",
       " 1.1285714285714286,\n",
       " 1.0428571428571431,\n",
       " 0.6857142857142857,\n",
       " -0.12857142857142861,\n",
       " -0.5714285714285714,\n",
       " -0.9571428571428572,\n",
       " -1.0142857142857142,\n",
       " -1.657142857142857,\n",
       " -1.5285714285714285,\n",
       " -0.8285714285714285,\n",
       " -0.9142857142857144,\n",
       " 0.24285714285714288,\n",
       " 0.2857142857142857,\n",
       " -0.10000000000000002,\n",
       " -0.557142857142857,\n",
       " -1.457142857142857,\n",
       " -2.6142857142857143,\n",
       " -2.0714285714285716,\n",
       " -3.128571428571429,\n",
       " -2.7714285714285714,\n",
       " -1.9142857142857141,\n",
       " -1.5857142857142859,\n",
       " -1.3142857142857143,\n",
       " -0.4000000000000001,\n",
       " -0.5285714285714287,\n",
       " 0.1857142857142857,\n",
       " 0.057142857142857065,\n",
       " -0.8000000000000002,\n",
       " -0.02857142857142863,\n",
       " 0.7428571428571428,\n",
       " 0.3285714285714284,\n",
       " 0.49999999999999994,\n",
       " 0.0142857142857143,\n",
       " 0.12857142857142853,\n",
       " 1.2285714285714284,\n",
       " 1.0857142857142856,\n",
       " 1.0857142857142859,\n",
       " 1.542857142857143,\n",
       " 1.3714285714285714,\n",
       " 1.3714285714285712,\n",
       " 0.9285714285714286,\n",
       " 0.0999999999999999,\n",
       " -0.8571428571428571,\n",
       " -1.9000000000000001,\n",
       " -2.4,\n",
       " -1.6285714285714286,\n",
       " -1.1285714285714286,\n",
       " 0.0714285714285714,\n",
       " 0.1857142857142857,\n",
       " 0.10000000000000009,\n",
       " 0.5,\n",
       " 0.3714285714285714,\n",
       " -0.6714285714285715,\n",
       " -0.3428571428571429,\n",
       " -1.0857142857142856,\n",
       " -0.6142857142857142,\n",
       " 0.6285714285714287,\n",
       " 1.3285714285714287,\n",
       " 2.1571428571428575,\n",
       " 2.1571428571428575,\n",
       " 2.1571428571428575,\n",
       " 2.142857142857143,\n",
       " 1.3285714285714287,\n",
       " 0.22857142857142865,\n",
       " -0.8714285714285713,\n",
       " -1.6999999999999997,\n",
       " -1.7,\n",
       " -1.6999999999999997,\n",
       " -2.142857142857143,\n",
       " -1.285714285714286,\n",
       " -1.2857142857142858,\n",
       " -0.9142857142857144,\n",
       " -0.8714285714285716,\n",
       " 0.2285714285714285,\n",
       " -0.8714285714285716,\n",
       " -0.3714285714285714,\n",
       " -0.17142857142857132,\n",
       " -0.1714285714285714,\n",
       " 0.5571428571428573,\n",
       " 0.28571428571428575,\n",
       " -0.8142857142857142,\n",
       " -0.057142857142857065,\n",
       " -0.557142857142857,\n",
       " -1.2571428571428573,\n",
       " -1.3142857142857143,\n",
       " -2.1428571428571432,\n",
       " -2.3285714285714287,\n",
       " -2.3285714285714283,\n",
       " -3.085714285714286,\n",
       " -3.028571428571429,\n",
       " -3.1142857142857143,\n",
       " -3.057142857142857,\n",
       " -2.942857142857143,\n",
       " -2.4,\n",
       " -2.085714285714286,\n",
       " -2.2285714285714286,\n",
       " -1.1285714285714286,\n",
       " -0.3428571428571428,\n",
       " 0.04285714285714296,\n",
       " 0.7571428571428572,\n",
       " 1.4000000000000001,\n",
       " 1.4857142857142855,\n",
       " 2.7285714285714286,\n",
       " 2.6714285714285713,\n",
       " 1.6142857142857143,\n",
       " 1.2285714285714284,\n",
       " 0.1285714285714285,\n",
       " -0.5428571428571429,\n",
       " 0.10000000000000002,\n",
       " -1.0000000000000002,\n",
       " -1.6,\n",
       " -1.7000000000000004,\n",
       " -1.7,\n",
       " -1.385714285714286,\n",
       " -1.8142857142857145,\n",
       " -2.0,\n",
       " -2.0571428571428574,\n",
       " -1.4,\n",
       " -0.9571428571428571,\n",
       " -0.9571428571428571,\n",
       " -1.3285714285714287,\n",
       " -0.5142857142857142,\n",
       " -0.32857142857142857,\n",
       " -6.344131569286608e-17,\n",
       " -0.3428571428571428,\n",
       " -0.457142857142857,\n",
       " 0.6857142857142856,\n",
       " 0.7428571428571429,\n",
       " -0.07142857142857137,\n",
       " -0.7142857142857143,\n",
       " 0.15714285714285708,\n",
       " -0.21428571428571436,\n",
       " -0.5428571428571428,\n",
       " -0.9285714285714286,\n",
       " -0.9857142857142857,\n",
       " -0.4857142857142857,\n",
       " -0.8857142857142858,\n",
       " -1.7571428571428573,\n",
       " -2.2857142857142856,\n",
       " -2.2285714285714286,\n",
       " -2.7142857142857144,\n",
       " -2.6571428571428575,\n",
       " -2.0,\n",
       " -1.6857142857142855,\n",
       " -1.5571428571428572,\n",
       " -0.3714285714285714,\n",
       " -0.10000000000000006,\n",
       " -0.09999999999999994,\n",
       " 0.2857142857142857,\n",
       " -0.9571428571428571,\n",
       " -1.2714285714285716,\n",
       " -1.6714285714285713,\n",
       " -1.6714285714285713,\n",
       " -1.542857142857143,\n",
       " -1.8714285714285717,\n",
       " -2.257142857142857,\n",
       " -2.1142857142857143,\n",
       " -1.0142857142857142,\n",
       " -0.6285714285714287,\n",
       " -0.6285714285714287,\n",
       " -0.6285714285714284,\n",
       " 0.2857142857142857,\n",
       " 1.3285714285714287,\n",
       " 2.4285714285714284,\n",
       " 1.2714285714285711,\n",
       " 1.3285714285714287,\n",
       " 1.1857142857142857,\n",
       " 1.0999999999999999,\n",
       " 0.5142857142857142,\n",
       " -0.14285714285714285,\n",
       " -1.2428571428571433,\n",
       " -0.04285714285714296,\n",
       " 0.27142857142857146,\n",
       " 0.47142857142857153,\n",
       " 0.15714285714285722,\n",
       " 0.2571428571428572,\n",
       " -0.1285714285714285,\n",
       " 0.25714285714285723,\n",
       " -0.8857142857142858,\n",
       " -1.2,\n",
       " -2.3000000000000003,\n",
       " -2.0285714285714285,\n",
       " -2.3999999999999995,\n",
       " -2.4,\n",
       " -2.7857142857142856,\n",
       " -2.471428571428571,\n",
       " -2.9714285714285715,\n",
       " -2.5714285714285716,\n",
       " -2.442857142857143,\n",
       " -2.1714285714285717,\n",
       " -1.9,\n",
       " -0.7999999999999999,\n",
       " -0.07142857142857142,\n",
       " -0.014285714285714362,\n",
       " -0.0285714285714286,\n",
       " -0.42857142857142855,\n",
       " -0.2571428571428571,\n",
       " -0.14285714285714277,\n",
       " -0.3428571428571429,\n",
       " -0.4857142857142857,\n",
       " 0.557142857142857,\n",
       " 0.48571428571428565,\n",
       " 0.8714285714285713,\n",
       " 0.3714285714285714,\n",
       " 1.0285714285714287,\n",
       " 0.5285714285714285,\n",
       " 0.7285714285714285,\n",
       " -0.31428571428571417,\n",
       " -0.6857142857142859,\n",
       " -0.6857142857142857,\n",
       " -0.7714285714285715,\n",
       " -1.4428571428571428,\n",
       " -1.8428571428571432,\n",
       " -2.942857142857143,\n",
       " -2.5,\n",
       " -2.442857142857143,\n",
       " -1.7285714285714284,\n",
       " -0.6857142857142858,\n",
       " -0.6714285714285714,\n",
       " 0.1857142857142857,\n",
       " 0.5714285714285714,\n",
       " 1.2285714285714284,\n",
       " 2.0,\n",
       " 0.9428571428571428,\n",
       " 0.04285714285714283,\n",
       " 0.41428571428571426,\n",
       " 0.6,\n",
       " 0.257142857142857,\n",
       " -0.8428571428571429,\n",
       " -1.5714285714285714,\n",
       " -1.3000000000000003,\n",
       " -0.9000000000000001,\n",
       " -1.6571428571428573,\n",
       " -2.757142857142857,\n",
       " -2.414285714285714,\n",
       " -1.3714285714285714,\n",
       " -1.0285714285714287,\n",
       " -0.3000000000000001,\n",
       " -0.31428571428571433,\n",
       " -0.042857142857142864,\n",
       " 0.457142857142857]"
      ]
     },
     "execution_count": 11,
     "metadata": {},
     "output_type": "execute_result"
    }
   ],
   "source": [
    "from Bio.SeqUtils.ProtParam import ProtParamData\n",
    "analyzed_seq.protein_scale(window=7, param_dict=ProtParamData.kd)"
   ]
  },
  {
   "cell_type": "code",
   "execution_count": null,
   "id": "daf85b80",
   "metadata": {},
   "outputs": [],
   "source": []
  },
  {
   "cell_type": "code",
   "execution_count": 146,
   "id": "4d05c47f",
   "metadata": {},
   "outputs": [
    {
     "data": {
      "text/plain": [
       "425"
      ]
     },
     "execution_count": 146,
     "metadata": {},
     "output_type": "execute_result"
    }
   ],
   "source": [
    "data = analyzed_seq.protein_scale(window=7, param_dict=ProtParamData.kd)\n",
    "len(data)"
   ]
  },
  {
   "cell_type": "code",
   "execution_count": null,
   "id": "522e3511",
   "metadata": {},
   "outputs": [],
   "source": [
    "plt.figure(figsize=(12,6))\n",
    "plt.style.use('ggplot')\n",
    "\n",
    "data = analyzed_seq.protein_scale(window=7, param_dict=ProtParamData.kd)\n",
    "names = list(data.keys())\n",
    "values = list(data.values())\n",
    "\n",
    "plt.bar(range(len(data)), values, tick_label=names)\n",
    "plt.show()"
   ]
  },
  {
   "cell_type": "markdown",
   "id": "aee679ae",
   "metadata": {},
   "source": [
    "Available Tools\n",
    "\n",
    "- count_amino_acids: Simply counts the number times an amino acid is repeated in the protein sequence. Returns a dictionary {AminoAcid: Number} and also stores the dictionary in self.amino_acids_content.\n",
    "- get_amino_acids_percent: The same as count_amino_acids, only returns the number in percentage of entire sequence. Returns a dictionary and stores the dictionary in self.amino_acids_content_percent.\n",
    "- molecular_weight: Calculates the molecular weight of a protein.\n",
    "- aromaticity: Calculates the aromaticity value of a protein according to Lobry & Gautier (1994, Nucleic Acids Res., 22, 3174-3180). It is simply the relative frequency of Phe+Trp+Tyr.\n",
    "- instability_index: Implementation of the method of Guruprasad et al. (1990, Protein Engineering, 4, 155-161). This method tests a protein for stability. Any value above 40 means the protein is unstable (=has a short half life).\n",
    "- flexibility: Implementation of the flexibility method of Vihinen et al. (1994, Proteins, 19, 141-149).\n",
    "- isoelectric_point: This method uses the module IsoelectricPoint to calculate the pI of a protein.\n",
    "- secondary_structure_fraction: This methods returns a list of the fraction of amino acids which tend to be in helix, turn or sheet.\n",
    "  + Amino acids in helix: V, I, Y, F, W, L.\n",
    "  + Amino acids in turn: N, P, G, S.\n",
    "  + Amino acids in sheet: E, M, A, L.\n"
   ]
  },
  {
   "cell_type": "code",
   "execution_count": null,
   "id": "7c85809a",
   "metadata": {},
   "outputs": [],
   "source": []
  },
  {
   "cell_type": "markdown",
   "id": "7fba7a3c",
   "metadata": {},
   "source": [
    "## 1.9. Instability_index\n",
    "\n",
    "Implementation of the method of Guruprasad et al. (1990, Protein Engineering, 4, 155-161). This method tests a protein for stability. Any value above 40 means the protein is unstable (=has a short half life)."
   ]
  },
  {
   "cell_type": "code",
   "execution_count": 140,
   "id": "4870382b",
   "metadata": {},
   "outputs": [
    {
     "name": "stdout",
     "output_type": "stream",
     "text": [
      "The instability index (II) of target protein is computed to be (39.222) and it seems stable.\n"
     ]
    }
   ],
   "source": [
    "instab = analyzed_seq.instability_index()\n",
    "#Calculates the charge of the protein for a given pH\n",
    "charge = analyzed_seq.charge_at_pH(7.4)\n",
    "if charge >= 40:\n",
    "    print(f\"The instability index (II) of target protein is computed to be ({instab:.3f}) and it seems unstable.\")\n",
    "else:\n",
    "    print(f\"The instability index (II) of target protein is computed to be ({instab:.3f}) and it seems stable.\")\n"
   ]
  }
 ],
 "metadata": {
  "kernelspec": {
   "display_name": "Python 3 (ipykernel)",
   "language": "python",
   "name": "python3"
  },
  "language_info": {
   "codemirror_mode": {
    "name": "ipython",
    "version": 3
   },
   "file_extension": ".py",
   "mimetype": "text/x-python",
   "name": "python",
   "nbconvert_exporter": "python",
   "pygments_lexer": "ipython3",
   "version": "3.7.12"
  },
  "tags": [
   "remove-input"
  ]
 },
 "nbformat": 4,
 "nbformat_minor": 5
}
