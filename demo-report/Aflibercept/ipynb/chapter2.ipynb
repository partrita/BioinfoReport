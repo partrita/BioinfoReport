{
 "cells": [
  {
   "cell_type": "markdown",
   "id": "429a0527",
   "metadata": {},
   "source": [
    "# 2. Potential sites of chemical modification\n",
    "\n",
    "An initial scan of the antibody sequences is presented based purely upon sequence. If a\n",
    "structural analysis was also requested, this section should be used in conjunction with the\n",
    "molecular surface analysis described in a subsequent section. Any of the sites listed below\n",
    "could be candidates for further consideration if the molecular surface analysis shows that they\n",
    "are significantly exposed on the surface of the antibody, increasing their propensity for chemical\n",
    "modification. The canonical sequence analysis is also helpful here, since each of these sites\n",
    "can also be considered in the context of their frequency of occurrence within the canonical\n",
    "library of homologous sequences.\n",
    "\n",
    "## tryptophan and methionine residues in CDRs\n",
    "\n",
    "The indole ring of Tryptophan (W) is prone to oxidation, especially when exposed to UV.\n",
    "Tryptophan residues in exposed positions in the CDRs, can affect the solubility of an antibody\n",
    "and lead to non-specific antigen binding.\n",
    "Methionine (M) residues are prone to oxidation through the formation of a sulfoxide, and can\n",
    "also become irreversibly oxidized. This oxidation can be accelerated by exposure to metal ions\n",
    "(e.g. from the wall of a stainless steel fermentation vessel).\n"
   ]
  },
  {
   "cell_type": "markdown",
   "id": "827280f1",
   "metadata": {},
   "source": [
    "## potential deamidation positions\n",
    "\n",
    "Asparagine (N) and glutamine (Q) residues are particularly prone to deamidation when they are\n",
    "followed in the sequence by amino acids with smaller side chains, that leave the intervening\n",
    "peptide group more exposed. Deamidation proceeds much more quickly if the susceptible\n",
    "amino acid is followed by a small, flexible residue such as glycine whose low steric hindrance\n",
    "leaves the peptide group open for attack.\n",
    "\n",
    "\n",
    "Search patterns: ASN/GLN-ALA/GLY/SER/THR"
   ]
  },
  {
   "cell_type": "markdown",
   "id": "ad8b3c12",
   "metadata": {},
   "source": [
    "## potential o-linked glycosylation sites\n",
    "\n",
    "The O-linked glycosylation of serine and threonine residues seems to be particularly sensitive to\n",
    "the presence of one or more proline residues in their vicinity in the sequence, particularly in the2\n",
    "-1 and +3 positions.\n",
    "\n",
    "\n",
    "Search patterns: PRO-SER/THR, SER/THR-X-X-PRO"
   ]
  },
  {
   "cell_type": "markdown",
   "id": "c66da1d2",
   "metadata": {},
   "source": [
    "## potential n-linked glycosylation sites\n",
    "Search patterns: ASN-X-SER/THR"
   ]
  }
 ],
 "metadata": {
  "kernelspec": {
   "display_name": "Python 3 (ipykernel)",
   "language": "python",
   "name": "python3"
  },
  "language_info": {
   "codemirror_mode": {
    "name": "ipython",
    "version": 3
   },
   "file_extension": ".py",
   "mimetype": "text/x-python",
   "name": "python",
   "nbconvert_exporter": "python",
   "pygments_lexer": "ipython3",
   "version": "3.8.10"
  }
 },
 "nbformat": 4,
 "nbformat_minor": 5
}
