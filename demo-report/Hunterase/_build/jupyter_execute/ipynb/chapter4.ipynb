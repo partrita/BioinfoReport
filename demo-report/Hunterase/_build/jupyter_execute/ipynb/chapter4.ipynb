{
 "cells": [
  {
   "cell_type": "markdown",
   "id": "429a0527",
   "metadata": {},
   "source": [
    "# 4. Immunogenicity analysis\n",
    "\n",
    "We uses the method of removing and/or reducing potential T-cell epitopes, as an\n",
    "approach to the management of the immunogenicity of biologics. The protein sequence is\n",
    "scanned in silico, for sequences that have a strong binding signature for a family of 50 MHC\n",
    "Class II receptors , whose alleles cover 96 – 98% of the human population. The presented4\n",
    "histograms for each variable region sequence, show the average (for the n positively-testing\n",
    "MHC II alleles) of epitope strength at each position as a percentage for all epitopes above a\n",
    "threshold of 20%. At each position in the sequence, the number of alleles scoring above the\n",
    "threshold is shown above the histogram at that position. The epitopes of most concern for the\n",
    "antibody’s immunogenicity are therefore those that have not just the highest average score per\n",
    "allele (as shown by the histogram), but which also score above the threshold across more\n",
    "alleles, since these epitopes are more likely to engender an immune response in a larger\n",
    "fraction of the patient population.\n",
    "\n",
    "Experience using in silico algorithms of this kind in conjunction with laboratory immunogenicity\n",
    "assays has shown that epitopes below this threshold do not generally contribute significantly to\n",
    "the protein’s immunogenicity. The number of alleles, the affected alleles and their individual\n",
    "scores are also listed in the detailed analyses below each histogram figure.\n",
    "\n",
    "The raw immunogenicity score quoted is the total over all epitopes above the threshold for all\n",
    "affected alleles. The normalized immunogenicity score is this raw score divided by the\n",
    "sequence length, and represents epitope strength per unit sequence to enable comparisons of\n",
    "protein sequences of different lengths.\n",
    "\n",
    "The absolute magnitudes of these scores are somewhat arbitrary, but they have value as\n",
    "comparative metrics. It has been shown that human serum proteins generally display an\n",
    "immunogenicity potential that is inversely proportional to their abundance in serum . Proteins5\n",
    "that are found at very low concentrations in serum, like erythropoietin, can have normalized\n",
    "scores above 80%. By contrast, very abundant human serum proteins like albumin and\n",
    "immunoglobulins typically have normalized scores in the 35 - 50% range.\n",
    "\n",
    "\n",
    "## immunogenicity analysis - heavy chain"
   ]
  }
 ],
 "metadata": {
  "kernelspec": {
   "display_name": "Python 3 (ipykernel)",
   "language": "python",
   "name": "python3"
  },
  "language_info": {
   "codemirror_mode": {
    "name": "ipython",
    "version": 3
   },
   "file_extension": ".py",
   "mimetype": "text/x-python",
   "name": "python",
   "nbconvert_exporter": "python",
   "pygments_lexer": "ipython3",
   "version": "3.8.10"
  }
 },
 "nbformat": 4,
 "nbformat_minor": 5
}