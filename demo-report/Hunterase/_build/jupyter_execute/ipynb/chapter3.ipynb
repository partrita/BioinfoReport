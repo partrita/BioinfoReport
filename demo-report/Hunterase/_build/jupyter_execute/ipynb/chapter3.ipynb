{
 "cells": [
  {
   "cell_type": "markdown",
   "id": "4e6c3348",
   "metadata": {},
   "source": [
    "# Structural analysis\n",
    "\n",
    "## Detection of disulfide bonds\n",
    "\n",
    "This function detects disulfide bridges in protein structures. Then the detected disulfide bonds are visualized and added to the bonds attribute of the AtomArray.,\n",
    "\n",
    "The employed criteria for disulfide bonds are quite simple in this case: the atoms of two cystein residues must be in a vicinity of Å and the dihedral angle of must be ."
   ]
  },
  {
   "cell_type": "code",
   "execution_count": 1,
   "id": "92f287b7",
   "metadata": {
    "tags": [
     "remove-input"
    ]
   },
   "outputs": [
    {
     "name": "stdout",
     "output_type": "stream",
     "text": [
      "    A     171  CYS SG     S        16.601   32.190  143.334\n",
      "    A     184  CYS SG     S        18.540   32.510  142.815\n",
      "    A     422  CYS SG     S        26.896   13.750  106.306\n",
      "    A     432  CYS SG     S        27.418   11.787  106.401\n",
      "    A     422  CYS SG     S        26.896   13.750  106.306\n",
      "    A     432  CYS SG     S        27.418   11.787  106.401\n"
     ]
    }
   ],
   "source": [
    "# Code source: Patrick Kunzmann\n",
    "# License: BSD 3 clause\n",
    "\n",
    "from tempfile import gettempdir\n",
    "import numpy as np\n",
    "import matplotlib.pyplot as plt\n",
    "import matplotlib.patches as patches\n",
    "import biotite.sequence as seq\n",
    "import biotite.structure as struc\n",
    "import biotite.structure.io as strucio\n",
    "import biotite.structure.io.mmtf as mmtf\n",
    "import biotite.database.rcsb as rcsb\n",
    "import biotite.structure.io.pdb as pdb\n",
    "%config InlineBackend.figure_format = 'retina' \n",
    "\n",
    "# Fetch and load structure\n",
    "pdb_file = pdb.PDBFile.read(\"../data/structure.pdb\")\n",
    "array = pdb_file.get_structure(model=1)\n",
    "\n",
    "def detect_disulfide_bonds(structure, distance=2.05, distance_tol=0.05,\n",
    "                           dihedral=90, dihedral_tol=10):\n",
    "    # Array where detected disulfide bonds are stored\n",
    "    disulfide_bonds = []\n",
    "    # A mask that selects only S-gamma atoms of cysteins\n",
    "    sulfide_mask = (structure.res_name == \"CYS\") & \\\n",
    "                   (structure.atom_name == \"SG\")\n",
    "    # sulfides in adjacency to other sulfides are detected in an\n",
    "    # efficient manner via a cell list\n",
    "    cell_list = struc.CellList(\n",
    "        structure,\n",
    "        cell_size=distance+distance_tol,\n",
    "        selection=sulfide_mask\n",
    "    )\n",
    "    # Iterate over every index corresponding to an S-gamma atom\n",
    "    for sulfide_i in np.where(sulfide_mask)[0]:\n",
    "        # Find indices corresponding to other S-gamma atoms,\n",
    "        # that are adjacent to the position of structure[sulfide_i]\n",
    "        # We use the faster 'get_atoms_in_cells()' instead of\n",
    "        # `get_atoms()`, as precise distance measurement is done\n",
    "        # afterwards anyway\n",
    "        potential_bond_partner_indices = cell_list.get_atoms_in_cells(\n",
    "            coord=structure.coord[sulfide_i]\n",
    "        )\n",
    "        # Iterate over every index corresponding to an S-gamma atom\n",
    "        # as bond partner\n",
    "        for sulfide_j in potential_bond_partner_indices:\n",
    "            if sulfide_i == sulfide_j:\n",
    "                # A sulfide cannot create a bond with itself:\n",
    "                continue\n",
    "            # Create 'Atom' instances\n",
    "            # of the potentially bonds S-gamma atoms\n",
    "            sg1 = structure[sulfide_i]\n",
    "            sg2 = structure[sulfide_j]\n",
    "            # For dihedral angle measurement the corresponding\n",
    "            # C-beta atoms are required, too\n",
    "            cb1 = structure[\n",
    "                (structure.chain_id == sg1.chain_id) &\n",
    "                (structure.res_id == sg1.res_id) &\n",
    "                (structure.atom_name == \"CB\")\n",
    "            ]\n",
    "            cb2 = structure[\n",
    "                (structure.chain_id == sg2.chain_id) &\n",
    "                (structure.res_id == sg2.res_id) &\n",
    "                (structure.atom_name == \"CB\")\n",
    "            ]\n",
    "            # Measure distance and dihedral angle and check criteria\n",
    "            bond_dist = struc.distance(sg1, sg2)\n",
    "            bond_dihed = np.abs(np.rad2deg(struc.dihedral(cb1, sg1, sg2, cb2)))\n",
    "            if bond_dist  > distance - distance_tol and \\\n",
    "               bond_dist  < distance + distance_tol and \\\n",
    "               bond_dihed > dihedral - dihedral_tol and \\\n",
    "               bond_dihed < dihedral + dihedral_tol:\n",
    "                    # Atom meet criteria -> we found a disulfide bond\n",
    "                    # -> the indices of the bond S-gamma atoms\n",
    "                    # are put into a tuple with the lower index first\n",
    "                    bond_tuple = sorted((sulfide_i, sulfide_j))\n",
    "                    # Add bond to list of bonds, but each bond only once\n",
    "                    if bond_tuple not in disulfide_bonds:\n",
    "                        disulfide_bonds.append(bond_tuple)\n",
    "    return np.array(disulfide_bonds, dtype=int)\n",
    "\n",
    "# mmtf_file = mmtf.MMTFFile.read(\n",
    "#     rcsb.fetch(\"2IT7\", \"mmtf\", gettempdir())\n",
    "# )\n",
    "# pdb_file = pdb.PDBFile.read(\"../data/predict_aflibercept.pdb\")\n",
    "knottin = pdb_file.get_structure(include_bonds=True, model=1)\n",
    "# knottin = mmtf.get_structure(mmtf_file, include_bonds=True, model=1)\n",
    "\n",
    "sulfide_indices = np.where((knottin.res_name == \"CYS\") & (knottin.atom_name == \"SG\"))[0]\n",
    "for i, j, _ in knottin.bonds.as_array():\n",
    "    if i in sulfide_indices and j in sulfide_indices:\n",
    "        print(knottin[i])\n",
    "        print(knottin[j])\n",
    "        knottin.bonds.remove_bond(i,j)\n",
    "\n",
    "disulfide_bonds = detect_disulfide_bonds(knottin)\n",
    "for sg1_index, sg2_index in disulfide_bonds:\n",
    "    print(knottin[sg1_index])\n",
    "    print(knottin[sg2_index])"
   ]
  },
  {
   "cell_type": "markdown",
   "id": "0a2b535f",
   "metadata": {},
   "source": [
    "The found disulfide bonds are visualized with the help of Matplotlib: The amino acid sequence is written on the X-axis and the disulfide bonds are depicted by yellow semi-ellipses.\n"
   ]
  },
  {
   "cell_type": "code",
   "execution_count": 2,
   "id": "a1bbcaa6",
   "metadata": {
    "tags": [
     "remove-input"
    ]
   },
   "outputs": [],
   "source": [
    "# # Create a sequence object for each residue in the structure\n",
    "# # As we want each residue to appear only once in the sequence,\n",
    "# # we choose an atom that appears in each residue once: the CA\n",
    "# sequence = seq.ProteinSequence(knottin.res_name[knottin.atom_name == \"CA\"])\n",
    "# figure = plt.figure(figsize=(12, 4))\n",
    "# ax = figure.gca()\n",
    "# MARGIN = 0.2\n",
    "\n",
    "# ax.set_ylim(0, 1+MARGIN)\n",
    "# ax.set_xticks(np.arange(1, len(sequence)+1))\n",
    "# ax.set_xticklabels(str(sequence))\n",
    "# ax.set_xlim(knottin.res_id[sg1_index]-10, knottin.res_id[sg2_index]+10) # hard coding for sequence margin\n",
    "# ax.yaxis.set_tick_params(\n",
    "#     left=False, right=False, labelleft=False, labelright=False\n",
    "# )\n",
    "# ax.xaxis.set_tick_params(\n",
    "#     bottom=True, top=False, labelbottom=True, labeltop=False, width=0\n",
    "# )\n",
    "# ax.set_frame_on(False)\n",
    "# for sg1_index, sg2_index in disulfide_bonds:\n",
    "#     sg1_res_id = knottin.res_id[sg1_index]\n",
    "#     sg2_res_id = knottin.res_id[sg2_index]\n",
    "#     ellipse_center = (sg1_res_id + sg2_res_id) / 2\n",
    "#     ellipse_width = sg2_res_id - sg1_res_id\n",
    "#     # Height is 2 instead of 1,\n",
    "#     # because only the upper half of the ellipse is visible\n",
    "#     ax.add_patch(patches.Ellipse(\n",
    "#         xy=(ellipse_center, 0), width=ellipse_width, height=2,\n",
    "#         facecolor=\"None\", edgecolor=\"gold\", linewidth=2\n",
    "#     ))\n",
    "# figure.tight_layout()"
   ]
  },
  {
   "cell_type": "markdown",
   "id": "7ba58d2e",
   "metadata": {},
   "source": [
    "## Calculation of protein diameter\n",
    "\n",
    "This calculates the diameter of a protein defined as the maximum pairwise atom distance."
   ]
  },
  {
   "cell_type": "code",
   "execution_count": 3,
   "id": "a29c7ee6",
   "metadata": {
    "tags": [
     "remove-input"
    ]
   },
   "outputs": [
    {
     "name": "stdout",
     "output_type": "stream",
     "text": [
      "Diameter of Idursulfasebeta is: 71.274 Angstrom.\n"
     ]
    }
   ],
   "source": [
    "# Code source: Patrick Kunzmann\n",
    "# License: BSD 3 clause\n",
    "\n",
    "from Bio import SeqIO\n",
    "from tempfile import gettempdir\n",
    "import numpy as np\n",
    "import biotite.structure as struc\n",
    "import biotite.structure.io as strucio\n",
    "import biotite.database.rcsb as rcsb\n",
    "\n",
    "record = SeqIO.read(\"../data/sequence.fasta\", \"fasta\")\n",
    "target_name = record.name\n",
    "\n",
    "def get_diameter(pdb_array):\n",
    "    atom_array = pdb_array\n",
    "    # Remove all non-amino acids\n",
    "    atom_array = atom_array[struc.filter_amino_acids(atom_array)]\n",
    "    coord = atom_array.coord\n",
    "    # Calculate all pairwise difference vectors\n",
    "    diff = coord[:, np.newaxis, :] - coord[np.newaxis, :, :]\n",
    "    # Calculate absolute of difference vectors -> square distances\n",
    "    sq_dist = np.sum(diff*diff, axis=-1)\n",
    "    # Maximum distance is diameter\n",
    "    diameter = np.sqrt(np.max(sq_dist))\n",
    "    return diameter\n",
    "\n",
    "# Example application\n",
    "diameter = get_diameter(array)\n",
    "print(f\"Diameter of {target_name} is: {diameter:.3f} Angstrom.\")"
   ]
  },
  {
   "cell_type": "markdown",
   "id": "e79af4b2",
   "metadata": {},
   "source": [
    "## Ramachandran plot\n",
    "\n",
    "This creates a Ramachandran plot of the motor domain of target protein."
   ]
  },
  {
   "cell_type": "code",
   "execution_count": 4,
   "id": "468fb838",
   "metadata": {
    "tags": [
     "remove-input"
    ]
   },
   "outputs": [
    {
     "data": {
      "image/png": "[encoded data removed]",
      "text/plain": [
       "<Figure size 720x576 with 2 Axes>"
      ]
     },
     "metadata": {
      "filenames": {
       "image/png": "/home/simon/Downloads/ProDevAnalysis/demo-report/Hunterase/_build/jupyter_execute/ipynb/chapter3_7_0.png"
      },
      "image/png": {
       "height": 565,
       "width": 650
      },
      "needs_background": "light"
     },
     "output_type": "display_data"
    }
   ],
   "source": [
    "# Code source: Patrick Kunzmann\n",
    "# License: BSD 3 clause\n",
    "\n",
    "from tempfile import gettempdir\n",
    "import biotite.structure as struc\n",
    "import biotite.structure.io as strucio\n",
    "import biotite.database.rcsb as rcsb\n",
    "import matplotlib.pyplot as plt\n",
    "import numpy as np\n",
    "from matplotlib import colors\n",
    "import scipy.stats as sts\n",
    "\n",
    "atom_array = array\n",
    "# Calculate backbone dihedral angles\n",
    "# from one of the two identical chains in the asymmetric unit\n",
    "phi, psi, omega = struc.dihedral_backbone(\n",
    "    atom_array[atom_array.chain_id == \"A\"]\n",
    ")\n",
    "# Conversion from radians into degree\n",
    "phi *= 180/np.pi\n",
    "psi *= 180/np.pi\n",
    "# Remove invalid values (NaN) at first and last position\n",
    "phi= phi[1:-1]\n",
    "psi= psi[1:-1]\n",
    "\n",
    "# Plot density\n",
    "figure = plt.figure(figsize=(10, 8))\n",
    "ax = figure.add_subplot(111)\n",
    "h, xed, yed, image = ax.hist2d(phi, psi, bins=(80, 80), cmin=1)\n",
    "cbar = figure.colorbar(image, orientation=\"vertical\")\n",
    "cbar.set_label(\"Count\")\n",
    "ax.set_aspect(\"equal\")\n",
    "ax.set_xlim(-180, 175)\n",
    "ax.set_ylim(-180, 175)\n",
    "ax.set_xlabel(r\"$\\phi$\")\n",
    "ax.set_ylabel(r\"$\\psi$\")\n",
    "ax.set_title(f\"Ramachandran plot of {target_name}\")\n",
    "figure.tight_layout()\n",
    "plt.show()\n"
   ]
  }
 ],
 "metadata": {
  "celltoolbar": "Edit Metadata",
  "kernelspec": {
   "display_name": "Python 3 (ipykernel)",
   "language": "python",
   "name": "python3"
  },
  "language_info": {
   "codemirror_mode": {
    "name": "ipython",
    "version": 3
   },
   "file_extension": ".py",
   "mimetype": "text/x-python",
   "name": "python",
   "nbconvert_exporter": "python",
   "pygments_lexer": "ipython3",
   "version": "3.10.4"
  },
  "tags": [
   "hide-input"
  ]
 },
 "nbformat": 4,
 "nbformat_minor": 5
}