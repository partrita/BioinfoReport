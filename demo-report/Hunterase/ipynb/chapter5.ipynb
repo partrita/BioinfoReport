{
 "cells": [
  {
   "cell_type": "markdown",
   "id": "429a0527",
   "metadata": {},
   "source": [
    "# 5. Homologous human frameworks\n",
    "\n",
    "The humanization of an antibody that was raised in another species is typically one of the major\n",
    "steps in its development for clinical use in humans. Given the nature of VDJ recombination6\n",
    "novel (non-germline) sequences can occur in the variable regions of the light and heavy chains\n",
    "which makes the humanization of the variable regions more challenging. In many therapeutic\n",
    "antibodies, any non-human antibody frameworks in the constant regions can be entirely and\n",
    "directly substituted with their human homologs. In the variable regions however, especially in\n",
    "the CDRs and in the sensitive regions around them that determine their conformations, only a\n",
    "partial humanization may be possible, given the requirement to preserve the antibody’s affinity\n",
    "for its antigen. For the humanization of antibody variable regions, alternative methods such as7\n",
    "CDR grafting and resurfacing are often used, and these methods are also based upon the use\n",
    "of sequences from close human homologs.\n",
    "\n",
    "When the goal is reducing a clinical antibody’s immunogenicity in patients, humanization and\n",
    "the removal of potential T-cell epitopes (deimmunization) are complementary approaches.\n",
    "When the humanization of a particular segment of the variable region is impractical, it may be\n",
    "possible to reduce the potential immunogenicity of that segment with fewer and/or more\n",
    "conservative substitutions that reduce the number and/or strength of the potential T-cell\n",
    "epitopes in that segment. For this reason, the data presented in this section and in the previous\n",
    "immunogenicity analysis, can be used together in the antibody development process.\n",
    "\n",
    "In this section, we present alignments of the light and heavy chains of the antibody with the ten\n",
    "closest human homologs from a database of the human antibody germline. In each case, the\n",
    "most homologous frameworks from either the heavy chain, or the light chain kappa and lambda\n",
    "frameworks, are shown in conjunction with the best matching J regions. These alignments can\n",
    "guide the selection of the most promising human frameworks that could be used for the\n",
    "humanization of the variable regions, as well as highlighting non-human sequences that are\n",
    "potential candidates for deimmunization in the event that their humanization is not practical.\n",
    "\n",
    "## human framework alignments"
   ]
  },
  {
   "cell_type": "code",
   "execution_count": 1,
   "id": "42087b7c",
   "metadata": {},
   "outputs": [
    {
     "name": "stdout",
     "output_type": "stream",
     "text": [
      "\n",
      "BLOSUM62\n",
      "\n",
      "    A   C   D   E   F   G   H   I   K   L   M   N   P   Q   R   S   T   V   W   Y   B   Z   X   *\n",
      "A   4   0  -2  -1  -2   0  -2  -1  -1  -1  -1  -2  -1  -1  -1   1   0   0  -3  -2  -2  -1   0  -4\n",
      "C   0   9  -3  -4  -2  -3  -3  -1  -3  -1  -1  -3  -3  -3  -3  -1  -1  -1  -2  -2  -3  -3  -2  -4\n",
      "D  -2  -3   6   2  -3  -1  -1  -3  -1  -4  -3   1  -1   0  -2   0  -1  -3  -4  -3   4   1  -1  -4\n",
      "E  -1  -4   2   5  -3  -2   0  -3   1  -3  -2   0  -1   2   0   0  -1  -2  -3  -2   1   4  -1  -4\n",
      "F  -2  -2  -3  -3   6  -3  -1   0  -3   0   0  -3  -4  -3  -3  -2  -2  -1   1   3  -3  -3  -1  -4\n",
      "G   0  -3  -1  -2  -3   6  -2  -4  -2  -4  -3   0  -2  -2  -2   0  -2  -3  -2  -3  -1  -2  -1  -4\n",
      "H  -2  -3  -1   0  -1  -2   8  -3  -1  -3  -2   1  -2   0   0  -1  -2  -3  -2   2   0   0  -1  -4\n",
      "I  -1  -1  -3  -3   0  -4  -3   4  -3   2   1  -3  -3  -3  -3  -2  -1   3  -3  -1  -3  -3  -1  -4\n",
      "K  -1  -3  -1   1  -3  -2  -1  -3   5  -2  -1   0  -1   1   2   0  -1  -2  -3  -2   0   1  -1  -4\n",
      "L  -1  -1  -4  -3   0  -4  -3   2  -2   4   2  -3  -3  -2  -2  -2  -1   1  -2  -1  -4  -3  -1  -4\n",
      "M  -1  -1  -3  -2   0  -3  -2   1  -1   2   5  -2  -2   0  -1  -1  -1   1  -1  -1  -3  -1  -1  -4\n",
      "N  -2  -3   1   0  -3   0   1  -3   0  -3  -2   6  -2   0   0   1   0  -3  -4  -2   3   0  -1  -4\n",
      "P  -1  -3  -1  -1  -4  -2  -2  -3  -1  -3  -2  -2   7  -1  -2  -1  -1  -2  -4  -3  -2  -1  -2  -4\n",
      "Q  -1  -3   0   2  -3  -2   0  -3   1  -2   0   0  -1   5   1   0  -1  -2  -2  -1   0   3  -1  -4\n",
      "R  -1  -3  -2   0  -3  -2   0  -3   2  -2  -1   0  -2   1   5  -1  -1  -3  -3  -2  -1   0  -1  -4\n",
      "S   1  -1   0   0  -2   0  -1  -2   0  -2  -1   1  -1   0  -1   4   1  -2  -3  -2   0   0   0  -4\n",
      "T   0  -1  -1  -1  -2  -2  -2  -1  -1  -1  -1   0  -1  -1  -1   1   5   0  -2  -2  -1  -1   0  -4\n",
      "V   0  -1  -3  -2  -1  -3  -3   3  -2   1   1  -3  -2  -2  -3  -2   0   4  -3  -1  -3  -2  -1  -4\n",
      "W  -3  -2  -4  -3   1  -2  -2  -3  -3  -2  -1  -4  -4  -2  -3  -3  -2  -3  11   2  -4  -3  -2  -4\n",
      "Y  -2  -2  -3  -2   3  -3   2  -1  -2  -1  -1  -2  -3  -1  -2  -2  -2  -1   2   7  -3  -2  -1  -4\n",
      "B  -2  -3   4   1  -3  -1   0  -3   0  -4  -3   3  -2   0  -1   0  -1  -3  -4  -3   4   1  -1  -4\n",
      "Z  -1  -3   1   4  -3  -2   0  -3   1  -3  -1   0  -1   3   0   0  -1  -2  -3  -2   1   4  -1  -4\n",
      "X   0  -2  -1  -1  -1  -1  -1  -1  -1  -1  -1  -1  -2  -1  -1   0   0  -1  -2  -1  -1  -1  -1  -4\n",
      "*  -4  -4  -4  -4  -4  -4  -4  -4  -4  -4  -4  -4  -4  -4  -4  -4  -4  -4  -4  -4  -4  -4  -4   1\n",
      "\n",
      "\n",
      "Identity matrix\n",
      "\n",
      "    A   C   D   E   F   G   H   I   K   L   M   N   P   Q   R   S   T   V   W   Y   B   Z   X   *\n",
      "A   1   0   0   0   0   0   0   0   0   0   0   0   0   0   0   0   0   0   0   0   0   0   0   0\n",
      "C   0   1   0   0   0   0   0   0   0   0   0   0   0   0   0   0   0   0   0   0   0   0   0   0\n",
      "D   0   0   1   0   0   0   0   0   0   0   0   0   0   0   0   0   0   0   0   0   0   0   0   0\n",
      "E   0   0   0   1   0   0   0   0   0   0   0   0   0   0   0   0   0   0   0   0   0   0   0   0\n",
      "F   0   0   0   0   1   0   0   0   0   0   0   0   0   0   0   0   0   0   0   0   0   0   0   0\n",
      "G   0   0   0   0   0   1   0   0   0   0   0   0   0   0   0   0   0   0   0   0   0   0   0   0\n",
      "H   0   0   0   0   0   0   1   0   0   0   0   0   0   0   0   0   0   0   0   0   0   0   0   0\n",
      "I   0   0   0   0   0   0   0   1   0   0   0   0   0   0   0   0   0   0   0   0   0   0   0   0\n",
      "K   0   0   0   0   0   0   0   0   1   0   0   0   0   0   0   0   0   0   0   0   0   0   0   0\n",
      "L   0   0   0   0   0   0   0   0   0   1   0   0   0   0   0   0   0   0   0   0   0   0   0   0\n",
      "M   0   0   0   0   0   0   0   0   0   0   1   0   0   0   0   0   0   0   0   0   0   0   0   0\n",
      "N   0   0   0   0   0   0   0   0   0   0   0   1   0   0   0   0   0   0   0   0   0   0   0   0\n",
      "P   0   0   0   0   0   0   0   0   0   0   0   0   1   0   0   0   0   0   0   0   0   0   0   0\n",
      "Q   0   0   0   0   0   0   0   0   0   0   0   0   0   1   0   0   0   0   0   0   0   0   0   0\n",
      "R   0   0   0   0   0   0   0   0   0   0   0   0   0   0   1   0   0   0   0   0   0   0   0   0\n",
      "S   0   0   0   0   0   0   0   0   0   0   0   0   0   0   0   1   0   0   0   0   0   0   0   0\n",
      "T   0   0   0   0   0   0   0   0   0   0   0   0   0   0   0   0   1   0   0   0   0   0   0   0\n",
      "V   0   0   0   0   0   0   0   0   0   0   0   0   0   0   0   0   0   1   0   0   0   0   0   0\n",
      "W   0   0   0   0   0   0   0   0   0   0   0   0   0   0   0   0   0   0   1   0   0   0   0   0\n",
      "Y   0   0   0   0   0   0   0   0   0   0   0   0   0   0   0   0   0   0   0   1   0   0   0   0\n",
      "B   0   0   0   0   0   0   0   0   0   0   0   0   0   0   0   0   0   0   0   0   1   0   0   0\n",
      "Z   0   0   0   0   0   0   0   0   0   0   0   0   0   0   0   0   0   0   0   0   0   1   0   0\n",
      "X   0   0   0   0   0   0   0   0   0   0   0   0   0   0   0   0   0   0   0   0   0   0   1   0\n",
      "*   0   0   0   0   0   0   0   0   0   0   0   0   0   0   0   0   0   0   0   0   0   0   0   1\n"
     ]
    }
   ],
   "source": [
    "import biotite.sequence as seq\n",
    "import biotite.sequence.align as align\n",
    "import numpy as np\n",
    "\n",
    "alph = seq.ProteinSequence.alphabet\n",
    "# Load the standard protein substitution matrix, which is BLOSUM62\n",
    "matrix = align.SubstitutionMatrix.std_protein_matrix()\n",
    "print(\"\\nBLOSUM62\\n\")\n",
    "print(matrix)\n",
    "# Load another matrix from internal database\n",
    "matrix = align.SubstitutionMatrix(alph, alph, \"BLOSUM50\")\n",
    "# Load a matrix dictionary representation,\n",
    "# modify it, and create the SubstitutionMatrix\n",
    "# (The dictionary could be alternatively loaded from a string containing\n",
    "# the matrix in NCBI format)\n",
    "matrix_dict = align.SubstitutionMatrix.dict_from_db(\"BLOSUM62\")\n",
    "matrix_dict[(\"P\",\"Y\")] = 100\n",
    "matrix = align.SubstitutionMatrix(alph, alph, matrix_dict)\n",
    "# And now create a matrix by directly provding the ndarray\n",
    "# containing the similarity scores\n",
    "# (identity matrix in our case)\n",
    "scores = np.identity(len(alph), dtype=int)\n",
    "matrix = align.SubstitutionMatrix(alph, alph, scores)\n",
    "print(\"\\n\\nIdentity matrix\\n\")\n",
    "print(matrix)"
   ]
  },
  {
   "cell_type": "code",
   "execution_count": 2,
   "id": "dcf4998f",
   "metadata": {},
   "outputs": [
    {
     "name": "stdout",
     "output_type": "stream",
     "text": [
      "\n",
      "Local alignment\n",
      "IQTITE\n",
      "IQLITE\n",
      "Global alignment\n",
      "BIQTITE\n",
      "-IQLITE\n"
     ]
    }
   ],
   "source": [
    "seq1 = seq.ProteinSequence(\"BIQTITE\")\n",
    "seq2 = seq.ProteinSequence(\"IQLITE\")\n",
    "matrix = align.SubstitutionMatrix.std_protein_matrix()\n",
    "print(\"\\nLocal alignment\")\n",
    "alignments = align.align_optimal(seq1, seq2, matrix, local=True)\n",
    "for ali in alignments:\n",
    "    print(ali)\n",
    "print(\"Global alignment\")\n",
    "alignments = align.align_optimal(seq1, seq2, matrix, local=False)\n",
    "for ali in alignments:\n",
    "    print(ali)"
   ]
  },
  {
   "cell_type": "code",
   "execution_count": 3,
   "id": "d199dead",
   "metadata": {},
   "outputs": [
    {
     "data": {
      "image/png": "[encoded data removed]",
      "text/plain": [
       "<Figure size 144x57.6 with 2 Axes>"
      ]
     },
     "metadata": {
      "needs_background": "light"
     },
     "output_type": "display_data"
    }
   ],
   "source": [
    "import matplotlib.pyplot as plt\n",
    "import biotite.sequence.graphics as graphics\n",
    "\n",
    "fig, ax = plt.subplots(figsize=(2.0, 0.8))\n",
    "graphics.plot_alignment_similarity_based(\n",
    "    ax, alignments[0], matrix=matrix, symbols_per_line=len(alignments[0])\n",
    ")\n",
    "fig.tight_layout()"
   ]
  },
  {
   "cell_type": "code",
   "execution_count": 4,
   "id": "b136534d",
   "metadata": {},
   "outputs": [
    {
     "data": {
      "image/png": "[encoded data removed]",
      "text/plain": [
       "<Figure size 576x180 with 2 Axes>"
      ]
     },
     "metadata": {
      "needs_background": "light"
     },
     "output_type": "display_data"
    }
   ],
   "source": [
    "import matplotlib.pyplot as plt\n",
    "import biotite.sequence as seq\n",
    "import biotite.sequence.align as align\n",
    "import biotite.sequence.io.fasta as fasta\n",
    "import biotite.database.entrez as entrez\n",
    "import biotite.sequence.graphics as graphics\n",
    "\n",
    "# Download and parse protein sequences of avidin and streptavidin\n",
    "fasta_file = fasta.FastaFile.read(entrez.fetch_single_file(\n",
    "    [\"CAC34569\", \"ACL82594\"], None, \"protein\", \"fasta\"\n",
    "))\n",
    "for name, sequence in fasta_file.items():\n",
    "    if \"CAC34569\" in name:\n",
    "        avidin_seq = seq.ProteinSequence(sequence)\n",
    "    elif \"ACL82594\" in name:\n",
    "        streptavidin_seq = seq.ProteinSequence(sequence)\n",
    "\n",
    "# Get BLOSUM62 matrix\n",
    "matrix = align.SubstitutionMatrix.std_protein_matrix()\n",
    "# Perform pairwise sequence alignment with affine gap penalty\n",
    "# Terminal gaps are not penalized\n",
    "alignments = align.align_optimal(avidin_seq, streptavidin_seq, matrix,\n",
    "                                 gap_penalty=(-10, -1), terminal_penalty=False)\n",
    "\n",
    "# Draw first and only alignment\n",
    "# The color intensity indicates the similiarity\n",
    "fig = plt.figure(figsize=(8.0, 2.5))\n",
    "ax = fig.add_subplot(111)\n",
    "graphics.plot_alignment_similarity_based(\n",
    "    ax, alignments[0], matrix=matrix, labels=[\"Avidin\", \"Streptavidin\"],\n",
    "    show_numbers=True, show_line_position=True\n",
    ")\n",
    "fig.tight_layout()\n",
    "\n",
    "plt.show()"
   ]
  },
  {
   "cell_type": "code",
   "execution_count": 6,
   "id": "9ac103dc",
   "metadata": {},
   "outputs": [
    {
     "ename": "FileNotFoundError",
     "evalue": "[Errno 2] No such file or directory: 'muscle': 'muscle'",
     "output_type": "error",
     "traceback": [
      "\u001b[0;31m---------------------------------------------------------------------------\u001b[0m",
      "\u001b[0;31mFileNotFoundError\u001b[0m                         Traceback (most recent call last)",
      "\u001b[0;32m/tmp/ipykernel_325818/688502023.py\u001b[0m in \u001b[0;36m<module>\u001b[0;34m\u001b[0m\n\u001b[1;32m     33\u001b[0m \u001b[0;34m\u001b[0m\u001b[0m\n\u001b[1;32m     34\u001b[0m \u001b[0;31m# Perform a multiple sequence alignment using MUSCLE\u001b[0m\u001b[0;34m\u001b[0m\u001b[0;34m\u001b[0m\u001b[0;34m\u001b[0m\u001b[0m\n\u001b[0;32m---> 35\u001b[0;31m \u001b[0mapp\u001b[0m \u001b[0;34m=\u001b[0m \u001b[0mmuscle\u001b[0m\u001b[0;34m.\u001b[0m\u001b[0mMuscleApp\u001b[0m\u001b[0;34m(\u001b[0m\u001b[0mhit_seqs\u001b[0m\u001b[0;34m)\u001b[0m\u001b[0;34m\u001b[0m\u001b[0;34m\u001b[0m\u001b[0m\n\u001b[0m\u001b[1;32m     36\u001b[0m \u001b[0mapp\u001b[0m\u001b[0;34m.\u001b[0m\u001b[0mstart\u001b[0m\u001b[0;34m(\u001b[0m\u001b[0;34m)\u001b[0m\u001b[0;34m\u001b[0m\u001b[0;34m\u001b[0m\u001b[0m\n\u001b[1;32m     37\u001b[0m \u001b[0mapp\u001b[0m\u001b[0;34m.\u001b[0m\u001b[0mjoin\u001b[0m\u001b[0;34m(\u001b[0m\u001b[0;34m)\u001b[0m\u001b[0;34m\u001b[0m\u001b[0;34m\u001b[0m\u001b[0m\n",
      "\u001b[0;32m~/Downloads/ProDevAnalysis/__pypackages__/3.7/lib/biotite/application/muscle/app3.py\u001b[0m in \u001b[0;36m__init__\u001b[0;34m(self, sequences, bin_path, matrix)\u001b[0m\n\u001b[1;32m     58\u001b[0m \u001b[0;34m\u001b[0m\u001b[0m\n\u001b[1;32m     59\u001b[0m     \u001b[0;32mdef\u001b[0m \u001b[0m__init__\u001b[0m\u001b[0;34m(\u001b[0m\u001b[0mself\u001b[0m\u001b[0;34m,\u001b[0m \u001b[0msequences\u001b[0m\u001b[0;34m,\u001b[0m \u001b[0mbin_path\u001b[0m\u001b[0;34m=\u001b[0m\u001b[0;34m\"muscle\"\u001b[0m\u001b[0;34m,\u001b[0m \u001b[0mmatrix\u001b[0m\u001b[0;34m=\u001b[0m\u001b[0;32mNone\u001b[0m\u001b[0;34m)\u001b[0m\u001b[0;34m:\u001b[0m\u001b[0;34m\u001b[0m\u001b[0;34m\u001b[0m\u001b[0m\n\u001b[0;32m---> 60\u001b[0;31m         \u001b[0mmajor_version\u001b[0m \u001b[0;34m=\u001b[0m \u001b[0mget_version\u001b[0m\u001b[0;34m(\u001b[0m\u001b[0mbin_path\u001b[0m\u001b[0;34m)\u001b[0m\u001b[0;34m[\u001b[0m\u001b[0;36m0\u001b[0m\u001b[0;34m]\u001b[0m\u001b[0;34m\u001b[0m\u001b[0;34m\u001b[0m\u001b[0m\n\u001b[0m\u001b[1;32m     61\u001b[0m         \u001b[0;32mif\u001b[0m \u001b[0mmajor_version\u001b[0m \u001b[0;34m!=\u001b[0m \u001b[0;36m3\u001b[0m\u001b[0;34m:\u001b[0m\u001b[0;34m\u001b[0m\u001b[0;34m\u001b[0m\u001b[0m\n\u001b[1;32m     62\u001b[0m             raise VersionError(\n",
      "\u001b[0;32m~/Downloads/ProDevAnalysis/__pypackages__/3.7/lib/biotite/application/muscle/app3.py\u001b[0m in \u001b[0;36mget_version\u001b[0;34m(bin_path)\u001b[0m\n\u001b[1;32m    242\u001b[0m \u001b[0;32mdef\u001b[0m \u001b[0mget_version\u001b[0m\u001b[0;34m(\u001b[0m\u001b[0mbin_path\u001b[0m\u001b[0;34m=\u001b[0m\u001b[0;34m\"muscle\"\u001b[0m\u001b[0;34m)\u001b[0m\u001b[0;34m:\u001b[0m\u001b[0;34m\u001b[0m\u001b[0;34m\u001b[0m\u001b[0m\n\u001b[1;32m    243\u001b[0m     output = subprocess.run(\n\u001b[0;32m--> 244\u001b[0;31m         \u001b[0;34m[\u001b[0m\u001b[0mbin_path\u001b[0m\u001b[0;34m,\u001b[0m \u001b[0;34m\"-version\"\u001b[0m\u001b[0;34m]\u001b[0m\u001b[0;34m,\u001b[0m \u001b[0mcapture_output\u001b[0m\u001b[0;34m=\u001b[0m\u001b[0;32mTrue\u001b[0m\u001b[0;34m,\u001b[0m \u001b[0mtext\u001b[0m\u001b[0;34m=\u001b[0m\u001b[0;32mTrue\u001b[0m\u001b[0;34m\u001b[0m\u001b[0;34m\u001b[0m\u001b[0m\n\u001b[0m\u001b[1;32m    245\u001b[0m     )\n\u001b[1;32m    246\u001b[0m     \u001b[0;31m# Find matches for version string containing major and minor version\u001b[0m\u001b[0;34m\u001b[0m\u001b[0;34m\u001b[0m\u001b[0;34m\u001b[0m\u001b[0m\n",
      "\u001b[0;32m~/miniconda3/lib/python3.7/subprocess.py\u001b[0m in \u001b[0;36mrun\u001b[0;34m(input, capture_output, timeout, check, *popenargs, **kwargs)\u001b[0m\n\u001b[1;32m    486\u001b[0m         \u001b[0mkwargs\u001b[0m\u001b[0;34m[\u001b[0m\u001b[0;34m'stderr'\u001b[0m\u001b[0;34m]\u001b[0m \u001b[0;34m=\u001b[0m \u001b[0mPIPE\u001b[0m\u001b[0;34m\u001b[0m\u001b[0;34m\u001b[0m\u001b[0m\n\u001b[1;32m    487\u001b[0m \u001b[0;34m\u001b[0m\u001b[0m\n\u001b[0;32m--> 488\u001b[0;31m     \u001b[0;32mwith\u001b[0m \u001b[0mPopen\u001b[0m\u001b[0;34m(\u001b[0m\u001b[0;34m*\u001b[0m\u001b[0mpopenargs\u001b[0m\u001b[0;34m,\u001b[0m \u001b[0;34m**\u001b[0m\u001b[0mkwargs\u001b[0m\u001b[0;34m)\u001b[0m \u001b[0;32mas\u001b[0m \u001b[0mprocess\u001b[0m\u001b[0;34m:\u001b[0m\u001b[0;34m\u001b[0m\u001b[0;34m\u001b[0m\u001b[0m\n\u001b[0m\u001b[1;32m    489\u001b[0m         \u001b[0;32mtry\u001b[0m\u001b[0;34m:\u001b[0m\u001b[0;34m\u001b[0m\u001b[0;34m\u001b[0m\u001b[0m\n\u001b[1;32m    490\u001b[0m             \u001b[0mstdout\u001b[0m\u001b[0;34m,\u001b[0m \u001b[0mstderr\u001b[0m \u001b[0;34m=\u001b[0m \u001b[0mprocess\u001b[0m\u001b[0;34m.\u001b[0m\u001b[0mcommunicate\u001b[0m\u001b[0;34m(\u001b[0m\u001b[0minput\u001b[0m\u001b[0;34m,\u001b[0m \u001b[0mtimeout\u001b[0m\u001b[0;34m=\u001b[0m\u001b[0mtimeout\u001b[0m\u001b[0;34m)\u001b[0m\u001b[0;34m\u001b[0m\u001b[0;34m\u001b[0m\u001b[0m\n",
      "\u001b[0;32m~/miniconda3/lib/python3.7/subprocess.py\u001b[0m in \u001b[0;36m__init__\u001b[0;34m(self, args, bufsize, executable, stdin, stdout, stderr, preexec_fn, close_fds, shell, cwd, env, universal_newlines, startupinfo, creationflags, restore_signals, start_new_session, pass_fds, encoding, errors, text)\u001b[0m\n\u001b[1;32m    798\u001b[0m                                 \u001b[0mc2pread\u001b[0m\u001b[0;34m,\u001b[0m \u001b[0mc2pwrite\u001b[0m\u001b[0;34m,\u001b[0m\u001b[0;34m\u001b[0m\u001b[0;34m\u001b[0m\u001b[0m\n\u001b[1;32m    799\u001b[0m                                 \u001b[0merrread\u001b[0m\u001b[0;34m,\u001b[0m \u001b[0merrwrite\u001b[0m\u001b[0;34m,\u001b[0m\u001b[0;34m\u001b[0m\u001b[0;34m\u001b[0m\u001b[0m\n\u001b[0;32m--> 800\u001b[0;31m                                 restore_signals, start_new_session)\n\u001b[0m\u001b[1;32m    801\u001b[0m         \u001b[0;32mexcept\u001b[0m\u001b[0;34m:\u001b[0m\u001b[0;34m\u001b[0m\u001b[0;34m\u001b[0m\u001b[0m\n\u001b[1;32m    802\u001b[0m             \u001b[0;31m# Cleanup if the child failed starting.\u001b[0m\u001b[0;34m\u001b[0m\u001b[0;34m\u001b[0m\u001b[0;34m\u001b[0m\u001b[0m\n",
      "\u001b[0;32m~/miniconda3/lib/python3.7/subprocess.py\u001b[0m in \u001b[0;36m_execute_child\u001b[0;34m(self, args, executable, preexec_fn, close_fds, pass_fds, cwd, env, startupinfo, creationflags, shell, p2cread, p2cwrite, c2pread, c2pwrite, errread, errwrite, restore_signals, start_new_session)\u001b[0m\n\u001b[1;32m   1549\u001b[0m                         \u001b[0;32mif\u001b[0m \u001b[0merrno_num\u001b[0m \u001b[0;34m==\u001b[0m \u001b[0merrno\u001b[0m\u001b[0;34m.\u001b[0m\u001b[0mENOENT\u001b[0m\u001b[0;34m:\u001b[0m\u001b[0;34m\u001b[0m\u001b[0;34m\u001b[0m\u001b[0m\n\u001b[1;32m   1550\u001b[0m                             \u001b[0merr_msg\u001b[0m \u001b[0;34m+=\u001b[0m \u001b[0;34m': '\u001b[0m \u001b[0;34m+\u001b[0m \u001b[0mrepr\u001b[0m\u001b[0;34m(\u001b[0m\u001b[0merr_filename\u001b[0m\u001b[0;34m)\u001b[0m\u001b[0;34m\u001b[0m\u001b[0;34m\u001b[0m\u001b[0m\n\u001b[0;32m-> 1551\u001b[0;31m                     \u001b[0;32mraise\u001b[0m \u001b[0mchild_exception_type\u001b[0m\u001b[0;34m(\u001b[0m\u001b[0merrno_num\u001b[0m\u001b[0;34m,\u001b[0m \u001b[0merr_msg\u001b[0m\u001b[0;34m,\u001b[0m \u001b[0merr_filename\u001b[0m\u001b[0;34m)\u001b[0m\u001b[0;34m\u001b[0m\u001b[0;34m\u001b[0m\u001b[0m\n\u001b[0m\u001b[1;32m   1552\u001b[0m                 \u001b[0;32mraise\u001b[0m \u001b[0mchild_exception_type\u001b[0m\u001b[0;34m(\u001b[0m\u001b[0merr_msg\u001b[0m\u001b[0;34m)\u001b[0m\u001b[0;34m\u001b[0m\u001b[0;34m\u001b[0m\u001b[0m\n\u001b[1;32m   1553\u001b[0m \u001b[0;34m\u001b[0m\u001b[0m\n",
      "\u001b[0;31mFileNotFoundError\u001b[0m: [Errno 2] No such file or directory: 'muscle': 'muscle'"
     ]
    }
   ],
   "source": [
    "# Code source: Patrick Kunzmann\n",
    "# License: BSD 3 cl\n",
    "from tempfile import gettempdir\n",
    "import biotite.sequence as seq\n",
    "import biotite.sequence.io.fasta as fasta\n",
    "import biotite.sequence.graphics as graphics\n",
    "import biotite.application.muscle as muscle\n",
    "import biotite.application.blast as blast\n",
    "import biotite.database.entrez as entrez\n",
    "import matplotlib.pyplot as plt\n",
    "\n",
    "# Download sequence of Streptococcus pyogenes Cas9\n",
    "file_name = entrez.fetch(\"Q99ZW2\", gettempdir(), \"fa\", \"protein\", \"fasta\")\n",
    "fasta_file = fasta.FastaFile.read(file_name)\n",
    "ref_seq = fasta.get_sequence(fasta_file)\n",
    "# Find homologous proteins using NCBI Blast\n",
    "# Search only the UniProt/SwissProt database\n",
    "blast_app = blast.BlastWebApp(\"blastp\", ref_seq, \"swissprot\", obey_rules=False)\n",
    "blast_app.start()\n",
    "blast_app.join()\n",
    "alignments = blast_app.get_alignments()\n",
    "# Get hit IDs for hits with score > 200\n",
    "hits = []\n",
    "for ali in alignments:\n",
    "    if ali.score > 200:\n",
    "        hits.append(ali.hit_id)\n",
    "# Get the sequences from hit IDs\n",
    "hit_seqs = []\n",
    "for hit in hits:\n",
    "    file_name = entrez.fetch(hit, gettempdir(), \"fa\", \"protein\", \"fasta\")\n",
    "    fasta_file = fasta.FastaFile.read(file_name)\n",
    "    hit_seqs.append(fasta.get_sequence(fasta_file))\n",
    "\n",
    "# Perform a multiple sequence alignment using MUSCLE\n",
    "app = muscle.MuscleApp(hit_seqs)\n",
    "app.start()\n",
    "app.join()\n",
    "alignment = app.get_alignment()\n",
    "# Print the MSA with hit IDs\n",
    "print(\"MSA results:\")\n",
    "gapped_seqs = alignment.get_gapped_sequences()\n",
    "for i in range(len(gapped_seqs)):\n",
    "    print(hits[i], \" \"*3, gapped_seqs[i])\n",
    "\n",
    "# Visualize the first 200 columns of the alignment\n",
    "# Reorder alignments to reflect sequence distance\n",
    "\n",
    "fig = plt.figure(figsize=(8.0, 8.0))\n",
    "ax = fig.add_subplot(111)\n",
    "order = app.get_alignment_order()\n",
    "graphics.plot_alignment_type_based(\n",
    "    ax, alignment[:200, order.tolist()], labels=[hits[i] for i in order],\n",
    "    show_numbers=True, color_scheme=\"clustalx\"\n",
    ")\n",
    "fig.tight_layout()\n",
    "\n",
    "plt.show()"
   ]
  },
  {
   "cell_type": "code",
   "execution_count": null,
   "id": "4966534e",
   "metadata": {},
   "outputs": [],
   "source": []
  }
 ],
 "metadata": {
  "kernelspec": {
   "display_name": "Python 3 (ipykernel)",
   "language": "python",
   "name": "python3"
  },
  "language_info": {
   "codemirror_mode": {
    "name": "ipython",
    "version": 3
   },
   "file_extension": ".py",
   "mimetype": "text/x-python",
   "name": "python",
   "nbconvert_exporter": "python",
   "pygments_lexer": "ipython3",
   "version": "3.7.12"
  }
 },
 "nbformat": 4,
 "nbformat_minor": 5
}
